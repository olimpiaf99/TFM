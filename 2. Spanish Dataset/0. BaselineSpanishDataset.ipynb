{
  "nbformat": 4,
  "nbformat_minor": 0,
  "metadata": {
    "colab": {
      "provenance": [],
      "collapsed_sections": [
        "fE6GQWQBFN18"
      ]
    },
    "kernelspec": {
      "name": "python3",
      "display_name": "Python 3"
    },
    "language_info": {
      "name": "python"
    }
  },
  "cells": [
    {
      "cell_type": "markdown",
      "source": [
        "## ***`Spanish Dataset`***"
      ],
      "metadata": {
        "id": "vNx-BWuyE1_r"
      }
    },
    {
      "cell_type": "markdown",
      "source": [
        "TASS was the first shared task on sentiment analysis in Twitter in Spanish. This dataset consists in tweets extracted from the different subsets of Spain, Peru, Costa Rica, Chile, Uruguay, and Mexico. "
      ],
      "metadata": {
        "id": "ZNyFamtPE5XU"
      }
    },
    {
      "cell_type": "markdown",
      "source": [
        "The dataset is based on events that occurred in April 2019, amongst all, entertainment, political, global commemoration, and global strike events. Hashtags and user mentions are already transformed into keywords: “HASHTAG” and \"@USER\" because these events are polarized."
      ],
      "metadata": {
        "id": "JhUNly_QE7Yj"
      }
    },
    {
      "cell_type": "markdown",
      "source": [
        "This dataset http://tass.sepln.org/2020/ contains a total of 8,409 tweets written in Spanish however not every catagory is of our interest where train, validation and test are already split up for us http://tass.sepln.org/2020/?page_id=74 ."
      ],
      "metadata": {
        "id": "JB8idrfbE9IU"
      }
    },
    {
      "cell_type": "code",
      "execution_count": null,
      "metadata": {
        "colab": {
          "base_uri": "https://localhost:8080/"
        },
        "id": "zs5vw-QHEz7o",
        "outputId": "cd3ee992-2b54-460d-bbfc-2255ce087a08"
      },
      "outputs": [
        {
          "output_type": "stream",
          "name": "stdout",
          "text": [
            "Drive already mounted at /content/drive; to attempt to forcibly remount, call drive.mount(\"/content/drive\", force_remount=True).\n"
          ]
        }
      ],
      "source": [
        "#Importing data\n",
        "\n",
        "import warnings\n",
        "from google.colab import drive\n",
        "drive.mount('/content/drive')\n",
        "warnings.filterwarnings(\"ignore\")"
      ]
    },
    {
      "cell_type": "code",
      "source": [
        "#Importing libraries\n",
        "import numpy as np \n",
        "import pandas as pd \n",
        "\n",
        "import nltk\n",
        "import seaborn as sns\n",
        "import matplotlib.pyplot as plt\n",
        "from datetime import datetime, date\n",
        "\n",
        "from sklearn.metrics import confusion_matrix, accuracy_score, roc_auc_score, roc_curve\n",
        "from sklearn.feature_extraction.text import CountVectorizer\n",
        "from nltk.tokenize import RegexpTokenizer\n",
        "from sklearn.feature_extraction.text import TfidfVectorizer\n",
        "\n",
        "\n",
        "from sklearn.model_selection import train_test_split\n",
        "from sklearn.tree import DecisionTreeClassifier\n",
        "from sklearn.metrics import classification_report"
      ],
      "metadata": {
        "id": "8iLD-o2QFI-D"
      },
      "execution_count": null,
      "outputs": []
    },
    {
      "cell_type": "markdown",
      "source": [
        "### ***Preprocessing***"
      ],
      "metadata": {
        "id": "fE6GQWQBFN18"
      }
    },
    {
      "cell_type": "markdown",
      "source": [
        "We will join validation and train sets, to make the preprocessing at the same time."
      ],
      "metadata": {
        "id": "zDcpz8PLFWuZ"
      }
    },
    {
      "cell_type": "code",
      "source": [
        "df2  = pd.read_csv(\"/content/drive/MyDrive/train.tsv\", sep='\\t')\n",
        "display(df2.head())"
      ],
      "metadata": {
        "colab": {
          "base_uri": "https://localhost:8080/",
          "height": 206
        },
        "id": "OGbU59r3FWPK",
        "outputId": "0d03513b-8375-41a4-ad79-52fd02ddd6ad"
      },
      "execution_count": null,
      "outputs": [
        {
          "output_type": "display_data",
          "data": {
            "text/plain": [
              "   id                                              tweet    label \n",
              "0   1  El Atlético resignado a perder HASHTAG 😔  http...  sadness \n",
              "1   2  Leer proporciona una mejor visión del mundo 🤓 ...      joy \n",
              "2   3  Amo a Arya Stark por encima de todas las cosas...      joy \n",
              "3   4  Gracias HASHTAG es increíble que una niña logr...   others \n",
              "4   5  Solo siento que hayamos perdido 24 escaños de ...  sadness "
            ],
            "text/html": [
              "\n",
              "  <div id=\"df-fd9877b2-3289-4d05-b831-9bb4dd6fda37\">\n",
              "    <div class=\"colab-df-container\">\n",
              "      <div>\n",
              "<style scoped>\n",
              "    .dataframe tbody tr th:only-of-type {\n",
              "        vertical-align: middle;\n",
              "    }\n",
              "\n",
              "    .dataframe tbody tr th {\n",
              "        vertical-align: top;\n",
              "    }\n",
              "\n",
              "    .dataframe thead th {\n",
              "        text-align: right;\n",
              "    }\n",
              "</style>\n",
              "<table border=\"1\" class=\"dataframe\">\n",
              "  <thead>\n",
              "    <tr style=\"text-align: right;\">\n",
              "      <th></th>\n",
              "      <th>id</th>\n",
              "      <th>tweet</th>\n",
              "      <th>label</th>\n",
              "    </tr>\n",
              "  </thead>\n",
              "  <tbody>\n",
              "    <tr>\n",
              "      <th>0</th>\n",
              "      <td>1</td>\n",
              "      <td>El Atlético resignado a perder HASHTAG 😔  http...</td>\n",
              "      <td>sadness</td>\n",
              "    </tr>\n",
              "    <tr>\n",
              "      <th>1</th>\n",
              "      <td>2</td>\n",
              "      <td>Leer proporciona una mejor visión del mundo 🤓 ...</td>\n",
              "      <td>joy</td>\n",
              "    </tr>\n",
              "    <tr>\n",
              "      <th>2</th>\n",
              "      <td>3</td>\n",
              "      <td>Amo a Arya Stark por encima de todas las cosas...</td>\n",
              "      <td>joy</td>\n",
              "    </tr>\n",
              "    <tr>\n",
              "      <th>3</th>\n",
              "      <td>4</td>\n",
              "      <td>Gracias HASHTAG es increíble que una niña logr...</td>\n",
              "      <td>others</td>\n",
              "    </tr>\n",
              "    <tr>\n",
              "      <th>4</th>\n",
              "      <td>5</td>\n",
              "      <td>Solo siento que hayamos perdido 24 escaños de ...</td>\n",
              "      <td>sadness</td>\n",
              "    </tr>\n",
              "  </tbody>\n",
              "</table>\n",
              "</div>\n",
              "      <button class=\"colab-df-convert\" onclick=\"convertToInteractive('df-fd9877b2-3289-4d05-b831-9bb4dd6fda37')\"\n",
              "              title=\"Convert this dataframe to an interactive table.\"\n",
              "              style=\"display:none;\">\n",
              "        \n",
              "  <svg xmlns=\"http://www.w3.org/2000/svg\" height=\"24px\"viewBox=\"0 0 24 24\"\n",
              "       width=\"24px\">\n",
              "    <path d=\"M0 0h24v24H0V0z\" fill=\"none\"/>\n",
              "    <path d=\"M18.56 5.44l.94 2.06.94-2.06 2.06-.94-2.06-.94-.94-2.06-.94 2.06-2.06.94zm-11 1L8.5 8.5l.94-2.06 2.06-.94-2.06-.94L8.5 2.5l-.94 2.06-2.06.94zm10 10l.94 2.06.94-2.06 2.06-.94-2.06-.94-.94-2.06-.94 2.06-2.06.94z\"/><path d=\"M17.41 7.96l-1.37-1.37c-.4-.4-.92-.59-1.43-.59-.52 0-1.04.2-1.43.59L10.3 9.45l-7.72 7.72c-.78.78-.78 2.05 0 2.83L4 21.41c.39.39.9.59 1.41.59.51 0 1.02-.2 1.41-.59l7.78-7.78 2.81-2.81c.8-.78.8-2.07 0-2.86zM5.41 20L4 18.59l7.72-7.72 1.47 1.35L5.41 20z\"/>\n",
              "  </svg>\n",
              "      </button>\n",
              "      \n",
              "  <style>\n",
              "    .colab-df-container {\n",
              "      display:flex;\n",
              "      flex-wrap:wrap;\n",
              "      gap: 12px;\n",
              "    }\n",
              "\n",
              "    .colab-df-convert {\n",
              "      background-color: #E8F0FE;\n",
              "      border: none;\n",
              "      border-radius: 50%;\n",
              "      cursor: pointer;\n",
              "      display: none;\n",
              "      fill: #1967D2;\n",
              "      height: 32px;\n",
              "      padding: 0 0 0 0;\n",
              "      width: 32px;\n",
              "    }\n",
              "\n",
              "    .colab-df-convert:hover {\n",
              "      background-color: #E2EBFA;\n",
              "      box-shadow: 0px 1px 2px rgba(60, 64, 67, 0.3), 0px 1px 3px 1px rgba(60, 64, 67, 0.15);\n",
              "      fill: #174EA6;\n",
              "    }\n",
              "\n",
              "    [theme=dark] .colab-df-convert {\n",
              "      background-color: #3B4455;\n",
              "      fill: #D2E3FC;\n",
              "    }\n",
              "\n",
              "    [theme=dark] .colab-df-convert:hover {\n",
              "      background-color: #434B5C;\n",
              "      box-shadow: 0px 1px 3px 1px rgba(0, 0, 0, 0.15);\n",
              "      filter: drop-shadow(0px 1px 2px rgba(0, 0, 0, 0.3));\n",
              "      fill: #FFFFFF;\n",
              "    }\n",
              "  </style>\n",
              "\n",
              "      <script>\n",
              "        const buttonEl =\n",
              "          document.querySelector('#df-fd9877b2-3289-4d05-b831-9bb4dd6fda37 button.colab-df-convert');\n",
              "        buttonEl.style.display =\n",
              "          google.colab.kernel.accessAllowed ? 'block' : 'none';\n",
              "\n",
              "        async function convertToInteractive(key) {\n",
              "          const element = document.querySelector('#df-fd9877b2-3289-4d05-b831-9bb4dd6fda37');\n",
              "          const dataTable =\n",
              "            await google.colab.kernel.invokeFunction('convertToInteractive',\n",
              "                                                     [key], {});\n",
              "          if (!dataTable) return;\n",
              "\n",
              "          const docLinkHtml = 'Like what you see? Visit the ' +\n",
              "            '<a target=\"_blank\" href=https://colab.research.google.com/notebooks/data_table.ipynb>data table notebook</a>'\n",
              "            + ' to learn more about interactive tables.';\n",
              "          element.innerHTML = '';\n",
              "          dataTable['output_type'] = 'display_data';\n",
              "          await google.colab.output.renderOutput(dataTable, element);\n",
              "          const docLink = document.createElement('div');\n",
              "          docLink.innerHTML = docLinkHtml;\n",
              "          element.appendChild(docLink);\n",
              "        }\n",
              "      </script>\n",
              "    </div>\n",
              "  </div>\n",
              "  "
            ]
          },
          "metadata": {}
        }
      ]
    },
    {
      "cell_type": "markdown",
      "source": [
        "**Dive deep into dataframe**"
      ],
      "metadata": {
        "id": "-u7xw3bOFZ5_"
      }
    },
    {
      "cell_type": "code",
      "source": [
        "df2.columns"
      ],
      "metadata": {
        "colab": {
          "base_uri": "https://localhost:8080/"
        },
        "id": "KcJgWjNgFcpg",
        "outputId": "829febc1-92b8-4ef5-ac4c-d05a79ad13d2"
      },
      "execution_count": null,
      "outputs": [
        {
          "output_type": "execute_result",
          "data": {
            "text/plain": [
              "Index(['id', 'tweet', 'label '], dtype='object')"
            ]
          },
          "metadata": {},
          "execution_count": 4
        }
      ]
    },
    {
      "cell_type": "code",
      "source": [
        "df2 = df2.rename({'label ': 'label'}, axis=1) #Rename the column label"
      ],
      "metadata": {
        "id": "cvx9-dT-Feo5"
      },
      "execution_count": null,
      "outputs": []
    },
    {
      "cell_type": "markdown",
      "source": [
        "Removing \"others\" and \"disgust\" category from list"
      ],
      "metadata": {
        "id": "j4DALWT6FiLn"
      }
    },
    {
      "cell_type": "code",
      "source": [
        "df2 = df2[~df2.label.str.contains(\"others\")]\n",
        "df2 = df2[~df2.label.str.contains(\"disgust\")]\n",
        "df2['label'].value_counts()"
      ],
      "metadata": {
        "colab": {
          "base_uri": "https://localhost:8080/"
        },
        "id": "Efg_T_Z-FjhI",
        "outputId": "6a1853bf-e388-470a-ad6a-37b32474e884"
      },
      "execution_count": null,
      "outputs": [
        {
          "output_type": "execute_result",
          "data": {
            "text/plain": [
              "joy          1270\n",
              "sadness       706\n",
              "anger         600\n",
              "surprise      241\n",
              "fear           67\n",
              "Name: label, dtype: int64"
            ]
          },
          "metadata": {},
          "execution_count": 6
        }
      ]
    },
    {
      "cell_type": "markdown",
      "source": [
        "Plot the dataset"
      ],
      "metadata": {
        "id": "Uf0BM4lAFlZA"
      }
    },
    {
      "cell_type": "code",
      "source": [
        "dataframe2=df2.groupby('label').count()\n",
        "plt.bar(dataframe2.index.values, dataframe2['tweet'])\n",
        "plt.xlabel('Sentiments')\n",
        "plt.ylabel('Number of Review')\n",
        "plt.show()"
      ],
      "metadata": {
        "colab": {
          "base_uri": "https://localhost:8080/",
          "height": 279
        },
        "id": "U0xHCEHVFm8p",
        "outputId": "7677456a-4dfc-4d45-9402-045da818a1d9"
      },
      "execution_count": null,
      "outputs": [
        {
          "output_type": "display_data",
          "data": {
            "text/plain": [
              "<Figure size 432x288 with 1 Axes>"
            ],
            "image/png": "[encoded data removed]"
          },
          "metadata": {
            "needs_background": "light"
          }
        }
      ]
    },
    {
      "cell_type": "markdown",
      "source": [
        "A quick look onto the length of the tweets of the dataset."
      ],
      "metadata": {
        "id": "GZO9oofhFo4A"
      }
    },
    {
      "cell_type": "code",
      "source": [
        "df2.describe(include='all')\n",
        "df2['length'] = df2['tweet'].apply(len)\n",
        "df2.head()\n",
        "graph = sns.FacetGrid(data=df2,col='label')\n",
        "graph.map(plt.hist,'length',bins=50,color='Purple')"
      ],
      "metadata": {
        "colab": {
          "base_uri": "https://localhost:8080/",
          "height": 242
        },
        "id": "ZHao7naPFqXB",
        "outputId": "69be6d6c-983f-4355-c07b-6fcc8d466fd7"
      },
      "execution_count": null,
      "outputs": [
        {
          "output_type": "execute_result",
          "data": {
            "text/plain": [
              "<seaborn.axisgrid.FacetGrid at 0x7efd0bedc610>"
            ]
          },
          "metadata": {},
          "execution_count": 8
        },
        {
          "output_type": "display_data",
          "data": {
            "text/plain": [
              "<Figure size 1080x216 with 5 Axes>"
            ],
            "image/png": "[encoded data removed]"
          },
          "metadata": {
            "needs_background": "light"
          }
        }
      ]
    },
    {
      "cell_type": "markdown",
      "source": [
        "Re-doing the process with validation file."
      ],
      "metadata": {
        "id": "taJqAff-Fr7x"
      }
    },
    {
      "cell_type": "code",
      "source": [
        "df1  = pd.read_csv(\"/content/drive/MyDrive/dev.tsv\", sep='\\t')\n",
        "display(df1.head())"
      ],
      "metadata": {
        "colab": {
          "base_uri": "https://localhost:8080/",
          "height": 206
        },
        "id": "sGkSM-IKFtJI",
        "outputId": "f26faea0-5546-4dbf-ee53-24358f071145"
      },
      "execution_count": null,
      "outputs": [
        {
          "output_type": "display_data",
          "data": {
            "text/plain": [
              "   id                                              tweet     label \n",
              "0   1  -Spoiler- Nadie ha tenido el dilema de tener q...    others \n",
              "1   2  Yo solo quiero saber donde esta HASHTAG? HASHT...    others \n",
              "2   3  La literatura nos hace más empáticos, dispuest...       joy \n",
              "3   4  Para mi, estas son las 4 mejores escenas de es...  surprise \n",
              "4   5  Lo que acabo de ver es puro oro. Historia de l...       joy "
            ],
            "text/html": [
              "\n",
              "  <div id=\"df-10df64f3-d542-46ee-8ec4-415a1f5438e6\">\n",
              "    <div class=\"colab-df-container\">\n",
              "      <div>\n",
              "<style scoped>\n",
              "    .dataframe tbody tr th:only-of-type {\n",
              "        vertical-align: middle;\n",
              "    }\n",
              "\n",
              "    .dataframe tbody tr th {\n",
              "        vertical-align: top;\n",
              "    }\n",
              "\n",
              "    .dataframe thead th {\n",
              "        text-align: right;\n",
              "    }\n",
              "</style>\n",
              "<table border=\"1\" class=\"dataframe\">\n",
              "  <thead>\n",
              "    <tr style=\"text-align: right;\">\n",
              "      <th></th>\n",
              "      <th>id</th>\n",
              "      <th>tweet</th>\n",
              "      <th>label</th>\n",
              "    </tr>\n",
              "  </thead>\n",
              "  <tbody>\n",
              "    <tr>\n",
              "      <th>0</th>\n",
              "      <td>1</td>\n",
              "      <td>-Spoiler- Nadie ha tenido el dilema de tener q...</td>\n",
              "      <td>others</td>\n",
              "    </tr>\n",
              "    <tr>\n",
              "      <th>1</th>\n",
              "      <td>2</td>\n",
              "      <td>Yo solo quiero saber donde esta HASHTAG? HASHT...</td>\n",
              "      <td>others</td>\n",
              "    </tr>\n",
              "    <tr>\n",
              "      <th>2</th>\n",
              "      <td>3</td>\n",
              "      <td>La literatura nos hace más empáticos, dispuest...</td>\n",
              "      <td>joy</td>\n",
              "    </tr>\n",
              "    <tr>\n",
              "      <th>3</th>\n",
              "      <td>4</td>\n",
              "      <td>Para mi, estas son las 4 mejores escenas de es...</td>\n",
              "      <td>surprise</td>\n",
              "    </tr>\n",
              "    <tr>\n",
              "      <th>4</th>\n",
              "      <td>5</td>\n",
              "      <td>Lo que acabo de ver es puro oro. Historia de l...</td>\n",
              "      <td>joy</td>\n",
              "    </tr>\n",
              "  </tbody>\n",
              "</table>\n",
              "</div>\n",
              "      <button class=\"colab-df-convert\" onclick=\"convertToInteractive('df-10df64f3-d542-46ee-8ec4-415a1f5438e6')\"\n",
              "              title=\"Convert this dataframe to an interactive table.\"\n",
              "              style=\"display:none;\">\n",
              "        \n",
              "  <svg xmlns=\"http://www.w3.org/2000/svg\" height=\"24px\"viewBox=\"0 0 24 24\"\n",
              "       width=\"24px\">\n",
              "    <path d=\"M0 0h24v24H0V0z\" fill=\"none\"/>\n",
              "    <path d=\"M18.56 5.44l.94 2.06.94-2.06 2.06-.94-2.06-.94-.94-2.06-.94 2.06-2.06.94zm-11 1L8.5 8.5l.94-2.06 2.06-.94-2.06-.94L8.5 2.5l-.94 2.06-2.06.94zm10 10l.94 2.06.94-2.06 2.06-.94-2.06-.94-.94-2.06-.94 2.06-2.06.94z\"/><path d=\"M17.41 7.96l-1.37-1.37c-.4-.4-.92-.59-1.43-.59-.52 0-1.04.2-1.43.59L10.3 9.45l-7.72 7.72c-.78.78-.78 2.05 0 2.83L4 21.41c.39.39.9.59 1.41.59.51 0 1.02-.2 1.41-.59l7.78-7.78 2.81-2.81c.8-.78.8-2.07 0-2.86zM5.41 20L4 18.59l7.72-7.72 1.47 1.35L5.41 20z\"/>\n",
              "  </svg>\n",
              "      </button>\n",
              "      \n",
              "  <style>\n",
              "    .colab-df-container {\n",
              "      display:flex;\n",
              "      flex-wrap:wrap;\n",
              "      gap: 12px;\n",
              "    }\n",
              "\n",
              "    .colab-df-convert {\n",
              "      background-color: #E8F0FE;\n",
              "      border: none;\n",
              "      border-radius: 50%;\n",
              "      cursor: pointer;\n",
              "      display: none;\n",
              "      fill: #1967D2;\n",
              "      height: 32px;\n",
              "      padding: 0 0 0 0;\n",
              "      width: 32px;\n",
              "    }\n",
              "\n",
              "    .colab-df-convert:hover {\n",
              "      background-color: #E2EBFA;\n",
              "      box-shadow: 0px 1px 2px rgba(60, 64, 67, 0.3), 0px 1px 3px 1px rgba(60, 64, 67, 0.15);\n",
              "      fill: #174EA6;\n",
              "    }\n",
              "\n",
              "    [theme=dark] .colab-df-convert {\n",
              "      background-color: #3B4455;\n",
              "      fill: #D2E3FC;\n",
              "    }\n",
              "\n",
              "    [theme=dark] .colab-df-convert:hover {\n",
              "      background-color: #434B5C;\n",
              "      box-shadow: 0px 1px 3px 1px rgba(0, 0, 0, 0.15);\n",
              "      filter: drop-shadow(0px 1px 2px rgba(0, 0, 0, 0.3));\n",
              "      fill: #FFFFFF;\n",
              "    }\n",
              "  </style>\n",
              "\n",
              "      <script>\n",
              "        const buttonEl =\n",
              "          document.querySelector('#df-10df64f3-d542-46ee-8ec4-415a1f5438e6 button.colab-df-convert');\n",
              "        buttonEl.style.display =\n",
              "          google.colab.kernel.accessAllowed ? 'block' : 'none';\n",
              "\n",
              "        async function convertToInteractive(key) {\n",
              "          const element = document.querySelector('#df-10df64f3-d542-46ee-8ec4-415a1f5438e6');\n",
              "          const dataTable =\n",
              "            await google.colab.kernel.invokeFunction('convertToInteractive',\n",
              "                                                     [key], {});\n",
              "          if (!dataTable) return;\n",
              "\n",
              "          const docLinkHtml = 'Like what you see? Visit the ' +\n",
              "            '<a target=\"_blank\" href=https://colab.research.google.com/notebooks/data_table.ipynb>data table notebook</a>'\n",
              "            + ' to learn more about interactive tables.';\n",
              "          element.innerHTML = '';\n",
              "          dataTable['output_type'] = 'display_data';\n",
              "          await google.colab.output.renderOutput(dataTable, element);\n",
              "          const docLink = document.createElement('div');\n",
              "          docLink.innerHTML = docLinkHtml;\n",
              "          element.appendChild(docLink);\n",
              "        }\n",
              "      </script>\n",
              "    </div>\n",
              "  </div>\n",
              "  "
            ]
          },
          "metadata": {}
        }
      ]
    },
    {
      "cell_type": "code",
      "source": [
        "df1 = df1.rename({'label ': 'label'}, axis=1) #Renaming column name "
      ],
      "metadata": {
        "id": "jfNt1Pe7FunY"
      },
      "execution_count": null,
      "outputs": []
    },
    {
      "cell_type": "markdown",
      "source": [
        "Removing \"others\" and \"disgust\" category from list"
      ],
      "metadata": {
        "id": "roLuheiWFwQZ"
      }
    },
    {
      "cell_type": "code",
      "source": [
        "df1 = df1[~df1.label.str.contains(\"others\")]\n",
        "df1 = df1[~df1.label.str.contains(\"disgust\")]\n",
        "df1['label'].value_counts()"
      ],
      "metadata": {
        "colab": {
          "base_uri": "https://localhost:8080/"
        },
        "id": "GZEy5Y5fFx5R",
        "outputId": "295133fb-9ce4-4272-97ca-978dbfd0d181"
      },
      "execution_count": null,
      "outputs": [
        {
          "output_type": "execute_result",
          "data": {
            "text/plain": [
              "joy          185\n",
              "sadness      103\n",
              "anger         87\n",
              "surprise      35\n",
              "fear          10\n",
              "Name: label, dtype: int64"
            ]
          },
          "metadata": {},
          "execution_count": 11
        }
      ]
    },
    {
      "cell_type": "markdown",
      "source": [
        "Plot the dataset"
      ],
      "metadata": {
        "id": "u5GwlhPYFzN5"
      }
    },
    {
      "cell_type": "code",
      "source": [
        "dataframe1=df1.groupby('label').count()\n",
        "plt.bar(dataframe1.index.values, dataframe1['tweet'])\n",
        "plt.xlabel('Sentiments')\n",
        "plt.ylabel('Number of Review')\n",
        "plt.show()"
      ],
      "metadata": {
        "colab": {
          "base_uri": "https://localhost:8080/",
          "height": 279
        },
        "id": "mq01aaEmF0ei",
        "outputId": "30749e95-3542-48cd-a5c4-0ec7e28915eb"
      },
      "execution_count": null,
      "outputs": [
        {
          "output_type": "display_data",
          "data": {
            "text/plain": [
              "<Figure size 432x288 with 1 Axes>"
            ],
            "image/png": "[encoded data removed]"
          },
          "metadata": {
            "needs_background": "light"
          }
        }
      ]
    },
    {
      "cell_type": "markdown",
      "source": [
        "A quick look onto the length of the tweets of the dataset."
      ],
      "metadata": {
        "id": "5HSzFS9zF2aa"
      }
    },
    {
      "cell_type": "code",
      "source": [
        "df1.describe(include='all')\n",
        "df1['length'] = df2['tweet'].apply(len)\n",
        "df1.head()\n",
        "graph = sns.FacetGrid(data=df2,col='label')\n",
        "graph.map(plt.hist,'length',bins=50,color='Purple')"
      ],
      "metadata": {
        "colab": {
          "base_uri": "https://localhost:8080/",
          "height": 242
        },
        "id": "VhPpCgaTF4OC",
        "outputId": "42c26143-dbce-4a1a-bc18-cc19ace4d716"
      },
      "execution_count": null,
      "outputs": [
        {
          "output_type": "execute_result",
          "data": {
            "text/plain": [
              "<seaborn.axisgrid.FacetGrid at 0x7efd08b1fd90>"
            ]
          },
          "metadata": {},
          "execution_count": 13
        },
        {
          "output_type": "display_data",
          "data": {
            "text/plain": [
              "<Figure size 1080x216 with 5 Axes>"
            ],
            "image/png": "[encoded data removed]"
          },
          "metadata": {
            "needs_background": "light"
          }
        }
      ]
    },
    {
      "cell_type": "markdown",
      "source": [
        "Merging both datasets so preprocessing is smooth."
      ],
      "metadata": {
        "id": "K-3Sf91NF_Xs"
      }
    },
    {
      "cell_type": "code",
      "source": [
        "df = pd.concat([df2, df1], ignore_index=True)\n",
        "display(df.head())"
      ],
      "metadata": {
        "colab": {
          "base_uri": "https://localhost:8080/",
          "height": 206
        },
        "id": "YhEirXSiGAg7",
        "outputId": "a35aaa6c-a45c-4121-cb59-83b9b869915d"
      },
      "execution_count": null,
      "outputs": [
        {
          "output_type": "display_data",
          "data": {
            "text/plain": [
              "   id                                              tweet     label  length\n",
              "0   1  El Atlético resignado a perder HASHTAG 😔  http...  sadness     65.0\n",
              "1   2  Leer proporciona una mejor visión del mundo 🤓 ...      joy     98.0\n",
              "2   3  Amo a Arya Stark por encima de todas las cosas...      joy     72.0\n",
              "3   5  Solo siento que hayamos perdido 24 escaños de ...  sadness     61.0\n",
              "4   6  Solo con ver con la intensidad que agitan las ...      joy    177.0"
            ],
            "text/html": [
              "\n",
              "  <div id=\"df-8043af15-961c-4d6d-9665-86610ab7edbb\">\n",
              "    <div class=\"colab-df-container\">\n",
              "      <div>\n",
              "<style scoped>\n",
              "    .dataframe tbody tr th:only-of-type {\n",
              "        vertical-align: middle;\n",
              "    }\n",
              "\n",
              "    .dataframe tbody tr th {\n",
              "        vertical-align: top;\n",
              "    }\n",
              "\n",
              "    .dataframe thead th {\n",
              "        text-align: right;\n",
              "    }\n",
              "</style>\n",
              "<table border=\"1\" class=\"dataframe\">\n",
              "  <thead>\n",
              "    <tr style=\"text-align: right;\">\n",
              "      <th></th>\n",
              "      <th>id</th>\n",
              "      <th>tweet</th>\n",
              "      <th>label</th>\n",
              "      <th>length</th>\n",
              "    </tr>\n",
              "  </thead>\n",
              "  <tbody>\n",
              "    <tr>\n",
              "      <th>0</th>\n",
              "      <td>1</td>\n",
              "      <td>El Atlético resignado a perder HASHTAG 😔  http...</td>\n",
              "      <td>sadness</td>\n",
              "      <td>65.0</td>\n",
              "    </tr>\n",
              "    <tr>\n",
              "      <th>1</th>\n",
              "      <td>2</td>\n",
              "      <td>Leer proporciona una mejor visión del mundo 🤓 ...</td>\n",
              "      <td>joy</td>\n",
              "      <td>98.0</td>\n",
              "    </tr>\n",
              "    <tr>\n",
              "      <th>2</th>\n",
              "      <td>3</td>\n",
              "      <td>Amo a Arya Stark por encima de todas las cosas...</td>\n",
              "      <td>joy</td>\n",
              "      <td>72.0</td>\n",
              "    </tr>\n",
              "    <tr>\n",
              "      <th>3</th>\n",
              "      <td>5</td>\n",
              "      <td>Solo siento que hayamos perdido 24 escaños de ...</td>\n",
              "      <td>sadness</td>\n",
              "      <td>61.0</td>\n",
              "    </tr>\n",
              "    <tr>\n",
              "      <th>4</th>\n",
              "      <td>6</td>\n",
              "      <td>Solo con ver con la intensidad que agitan las ...</td>\n",
              "      <td>joy</td>\n",
              "      <td>177.0</td>\n",
              "    </tr>\n",
              "  </tbody>\n",
              "</table>\n",
              "</div>\n",
              "      <button class=\"colab-df-convert\" onclick=\"convertToInteractive('df-8043af15-961c-4d6d-9665-86610ab7edbb')\"\n",
              "              title=\"Convert this dataframe to an interactive table.\"\n",
              "              style=\"display:none;\">\n",
              "        \n",
              "  <svg xmlns=\"http://www.w3.org/2000/svg\" height=\"24px\"viewBox=\"0 0 24 24\"\n",
              "       width=\"24px\">\n",
              "    <path d=\"M0 0h24v24H0V0z\" fill=\"none\"/>\n",
              "    <path d=\"M18.56 5.44l.94 2.06.94-2.06 2.06-.94-2.06-.94-.94-2.06-.94 2.06-2.06.94zm-11 1L8.5 8.5l.94-2.06 2.06-.94-2.06-.94L8.5 2.5l-.94 2.06-2.06.94zm10 10l.94 2.06.94-2.06 2.06-.94-2.06-.94-.94-2.06-.94 2.06-2.06.94z\"/><path d=\"M17.41 7.96l-1.37-1.37c-.4-.4-.92-.59-1.43-.59-.52 0-1.04.2-1.43.59L10.3 9.45l-7.72 7.72c-.78.78-.78 2.05 0 2.83L4 21.41c.39.39.9.59 1.41.59.51 0 1.02-.2 1.41-.59l7.78-7.78 2.81-2.81c.8-.78.8-2.07 0-2.86zM5.41 20L4 18.59l7.72-7.72 1.47 1.35L5.41 20z\"/>\n",
              "  </svg>\n",
              "      </button>\n",
              "      \n",
              "  <style>\n",
              "    .colab-df-container {\n",
              "      display:flex;\n",
              "      flex-wrap:wrap;\n",
              "      gap: 12px;\n",
              "    }\n",
              "\n",
              "    .colab-df-convert {\n",
              "      background-color: #E8F0FE;\n",
              "      border: none;\n",
              "      border-radius: 50%;\n",
              "      cursor: pointer;\n",
              "      display: none;\n",
              "      fill: #1967D2;\n",
              "      height: 32px;\n",
              "      padding: 0 0 0 0;\n",
              "      width: 32px;\n",
              "    }\n",
              "\n",
              "    .colab-df-convert:hover {\n",
              "      background-color: #E2EBFA;\n",
              "      box-shadow: 0px 1px 2px rgba(60, 64, 67, 0.3), 0px 1px 3px 1px rgba(60, 64, 67, 0.15);\n",
              "      fill: #174EA6;\n",
              "    }\n",
              "\n",
              "    [theme=dark] .colab-df-convert {\n",
              "      background-color: #3B4455;\n",
              "      fill: #D2E3FC;\n",
              "    }\n",
              "\n",
              "    [theme=dark] .colab-df-convert:hover {\n",
              "      background-color: #434B5C;\n",
              "      box-shadow: 0px 1px 3px 1px rgba(0, 0, 0, 0.15);\n",
              "      filter: drop-shadow(0px 1px 2px rgba(0, 0, 0, 0.3));\n",
              "      fill: #FFFFFF;\n",
              "    }\n",
              "  </style>\n",
              "\n",
              "      <script>\n",
              "        const buttonEl =\n",
              "          document.querySelector('#df-8043af15-961c-4d6d-9665-86610ab7edbb button.colab-df-convert');\n",
              "        buttonEl.style.display =\n",
              "          google.colab.kernel.accessAllowed ? 'block' : 'none';\n",
              "\n",
              "        async function convertToInteractive(key) {\n",
              "          const element = document.querySelector('#df-8043af15-961c-4d6d-9665-86610ab7edbb');\n",
              "          const dataTable =\n",
              "            await google.colab.kernel.invokeFunction('convertToInteractive',\n",
              "                                                     [key], {});\n",
              "          if (!dataTable) return;\n",
              "\n",
              "          const docLinkHtml = 'Like what you see? Visit the ' +\n",
              "            '<a target=\"_blank\" href=https://colab.research.google.com/notebooks/data_table.ipynb>data table notebook</a>'\n",
              "            + ' to learn more about interactive tables.';\n",
              "          element.innerHTML = '';\n",
              "          dataTable['output_type'] = 'display_data';\n",
              "          await google.colab.output.renderOutput(dataTable, element);\n",
              "          const docLink = document.createElement('div');\n",
              "          docLink.innerHTML = docLinkHtml;\n",
              "          element.appendChild(docLink);\n",
              "        }\n",
              "      </script>\n",
              "    </div>\n",
              "  </div>\n",
              "  "
            ]
          },
          "metadata": {}
        }
      ]
    },
    {
      "cell_type": "code",
      "source": [
        "df['label'].value_counts()"
      ],
      "metadata": {
        "colab": {
          "base_uri": "https://localhost:8080/"
        },
        "id": "XNUkZgGFGBwr",
        "outputId": "79c3fe3c-625b-4592-9248-ff2430b206fb"
      },
      "execution_count": null,
      "outputs": [
        {
          "output_type": "execute_result",
          "data": {
            "text/plain": [
              "joy          1455\n",
              "sadness       809\n",
              "anger         687\n",
              "surprise      276\n",
              "fear           77\n",
              "Name: label, dtype: int64"
            ]
          },
          "metadata": {},
          "execution_count": 15
        }
      ]
    },
    {
      "cell_type": "markdown",
      "source": [
        "As we have seen, the dataset has a class imbalance. An imbalanced dataset in NLP is a dataset whose number of data samples is not the same in the different classes. One class has more data samples than the other class. When we train a model with an imbalanced dataset, the model will be biased towards the majority class. The model may make wrong predictions and give inaccurate results. It has a negative impact when we use the model in production, and the stakeholders depend on it for business operations.We will use the Imbalanced-learn library. This library will balance the classes in the dataset. It will also reduce model bias and enhance the NLP performance."
      ],
      "metadata": {
        "id": "dL-duJ4zGEIb"
      }
    },
    {
      "cell_type": "markdown",
      "source": [
        "Additionally, we are redoing the id column so it is linear."
      ],
      "metadata": {
        "id": "q-hpR0f1GHvU"
      }
    },
    {
      "cell_type": "code",
      "source": [
        "df[\"ID\"] = df.index + 1\n",
        "df.drop('id', axis=1, inplace=True)"
      ],
      "metadata": {
        "id": "IIET-gEFGHGU"
      },
      "execution_count": null,
      "outputs": []
    },
    {
      "cell_type": "code",
      "source": [
        "df.drop('length', axis=1, inplace=True)"
      ],
      "metadata": {
        "id": "Kmr1orbnGDCr"
      },
      "execution_count": null,
      "outputs": []
    },
    {
      "cell_type": "markdown",
      "source": [
        "#### ***Preprocessing***"
      ],
      "metadata": {
        "id": "gN_qXyjtGQcm"
      }
    },
    {
      "cell_type": "markdown",
      "source": [
        "The dataset has 3304 data samples (rows) and 3 columns."
      ],
      "metadata": {
        "id": "9WlIzOU2GTqm"
      }
    },
    {
      "cell_type": "code",
      "source": [
        "df.shape"
      ],
      "metadata": {
        "colab": {
          "base_uri": "https://localhost:8080/"
        },
        "id": "DPhPgBlNGQzO",
        "outputId": "06ee9e92-19e8-42d1-f28c-753bad33c929"
      },
      "execution_count": null,
      "outputs": [
        {
          "output_type": "execute_result",
          "data": {
            "text/plain": [
              "(3304, 3)"
            ]
          },
          "metadata": {},
          "execution_count": 18
        }
      ]
    },
    {
      "cell_type": "markdown",
      "source": [
        "Check for null values if exist."
      ],
      "metadata": {
        "id": "WYBWWh6RGW3m"
      }
    },
    {
      "cell_type": "code",
      "source": [
        "df.isnull().sum()"
      ],
      "metadata": {
        "colab": {
          "base_uri": "https://localhost:8080/"
        },
        "id": "oYb4zqCIGYBP",
        "outputId": "bf10c3fd-308d-4496-92ff-3cd883a72d05"
      },
      "execution_count": null,
      "outputs": [
        {
          "output_type": "execute_result",
          "data": {
            "text/plain": [
              "tweet    0\n",
              "label    0\n",
              "ID       0\n",
              "dtype: int64"
            ]
          },
          "metadata": {},
          "execution_count": 19
        }
      ]
    },
    {
      "cell_type": "markdown",
      "source": [
        "We will calculate the length of each data sample by creating a new column that will show the length of each data sample. This new column will help us with preprocessing the data samples."
      ],
      "metadata": {
        "id": "zmUFHWgnGamP"
      }
    },
    {
      "cell_type": "code",
      "source": [
        "df['length'] = df['tweet'].apply(lambda x: len(x))\n",
        "display(df.head())"
      ],
      "metadata": {
        "colab": {
          "base_uri": "https://localhost:8080/",
          "height": 206
        },
        "id": "Im9FaRaIGb3S",
        "outputId": "ff5ff24c-e4ce-443c-dff2-2d90be272868"
      },
      "execution_count": null,
      "outputs": [
        {
          "output_type": "display_data",
          "data": {
            "text/plain": [
              "                                               tweet     label  ID  length\n",
              "0  El Atlético resignado a perder HASHTAG 😔  http...  sadness    1      65\n",
              "1  Leer proporciona una mejor visión del mundo 🤓 ...      joy    2      98\n",
              "2  Amo a Arya Stark por encima de todas las cosas...      joy    3      72\n",
              "3  Solo siento que hayamos perdido 24 escaños de ...  sadness    4      61\n",
              "4  Solo con ver con la intensidad que agitan las ...      joy    5     177"
            ],
            "text/html": [
              "\n",
              "  <div id=\"df-a08a98df-d560-4958-a8e5-084bf92c002d\">\n",
              "    <div class=\"colab-df-container\">\n",
              "      <div>\n",
              "<style scoped>\n",
              "    .dataframe tbody tr th:only-of-type {\n",
              "        vertical-align: middle;\n",
              "    }\n",
              "\n",
              "    .dataframe tbody tr th {\n",
              "        vertical-align: top;\n",
              "    }\n",
              "\n",
              "    .dataframe thead th {\n",
              "        text-align: right;\n",
              "    }\n",
              "</style>\n",
              "<table border=\"1\" class=\"dataframe\">\n",
              "  <thead>\n",
              "    <tr style=\"text-align: right;\">\n",
              "      <th></th>\n",
              "      <th>tweet</th>\n",
              "      <th>label</th>\n",
              "      <th>ID</th>\n",
              "      <th>length</th>\n",
              "    </tr>\n",
              "  </thead>\n",
              "  <tbody>\n",
              "    <tr>\n",
              "      <th>0</th>\n",
              "      <td>El Atlético resignado a perder HASHTAG 😔  http...</td>\n",
              "      <td>sadness</td>\n",
              "      <td>1</td>\n",
              "      <td>65</td>\n",
              "    </tr>\n",
              "    <tr>\n",
              "      <th>1</th>\n",
              "      <td>Leer proporciona una mejor visión del mundo 🤓 ...</td>\n",
              "      <td>joy</td>\n",
              "      <td>2</td>\n",
              "      <td>98</td>\n",
              "    </tr>\n",
              "    <tr>\n",
              "      <th>2</th>\n",
              "      <td>Amo a Arya Stark por encima de todas las cosas...</td>\n",
              "      <td>joy</td>\n",
              "      <td>3</td>\n",
              "      <td>72</td>\n",
              "    </tr>\n",
              "    <tr>\n",
              "      <th>3</th>\n",
              "      <td>Solo siento que hayamos perdido 24 escaños de ...</td>\n",
              "      <td>sadness</td>\n",
              "      <td>4</td>\n",
              "      <td>61</td>\n",
              "    </tr>\n",
              "    <tr>\n",
              "      <th>4</th>\n",
              "      <td>Solo con ver con la intensidad que agitan las ...</td>\n",
              "      <td>joy</td>\n",
              "      <td>5</td>\n",
              "      <td>177</td>\n",
              "    </tr>\n",
              "  </tbody>\n",
              "</table>\n",
              "</div>\n",
              "      <button class=\"colab-df-convert\" onclick=\"convertToInteractive('df-a08a98df-d560-4958-a8e5-084bf92c002d')\"\n",
              "              title=\"Convert this dataframe to an interactive table.\"\n",
              "              style=\"display:none;\">\n",
              "        \n",
              "  <svg xmlns=\"http://www.w3.org/2000/svg\" height=\"24px\"viewBox=\"0 0 24 24\"\n",
              "       width=\"24px\">\n",
              "    <path d=\"M0 0h24v24H0V0z\" fill=\"none\"/>\n",
              "    <path d=\"M18.56 5.44l.94 2.06.94-2.06 2.06-.94-2.06-.94-.94-2.06-.94 2.06-2.06.94zm-11 1L8.5 8.5l.94-2.06 2.06-.94-2.06-.94L8.5 2.5l-.94 2.06-2.06.94zm10 10l.94 2.06.94-2.06 2.06-.94-2.06-.94-.94-2.06-.94 2.06-2.06.94z\"/><path d=\"M17.41 7.96l-1.37-1.37c-.4-.4-.92-.59-1.43-.59-.52 0-1.04.2-1.43.59L10.3 9.45l-7.72 7.72c-.78.78-.78 2.05 0 2.83L4 21.41c.39.39.9.59 1.41.59.51 0 1.02-.2 1.41-.59l7.78-7.78 2.81-2.81c.8-.78.8-2.07 0-2.86zM5.41 20L4 18.59l7.72-7.72 1.47 1.35L5.41 20z\"/>\n",
              "  </svg>\n",
              "      </button>\n",
              "      \n",
              "  <style>\n",
              "    .colab-df-container {\n",
              "      display:flex;\n",
              "      flex-wrap:wrap;\n",
              "      gap: 12px;\n",
              "    }\n",
              "\n",
              "    .colab-df-convert {\n",
              "      background-color: #E8F0FE;\n",
              "      border: none;\n",
              "      border-radius: 50%;\n",
              "      cursor: pointer;\n",
              "      display: none;\n",
              "      fill: #1967D2;\n",
              "      height: 32px;\n",
              "      padding: 0 0 0 0;\n",
              "      width: 32px;\n",
              "    }\n",
              "\n",
              "    .colab-df-convert:hover {\n",
              "      background-color: #E2EBFA;\n",
              "      box-shadow: 0px 1px 2px rgba(60, 64, 67, 0.3), 0px 1px 3px 1px rgba(60, 64, 67, 0.15);\n",
              "      fill: #174EA6;\n",
              "    }\n",
              "\n",
              "    [theme=dark] .colab-df-convert {\n",
              "      background-color: #3B4455;\n",
              "      fill: #D2E3FC;\n",
              "    }\n",
              "\n",
              "    [theme=dark] .colab-df-convert:hover {\n",
              "      background-color: #434B5C;\n",
              "      box-shadow: 0px 1px 3px 1px rgba(0, 0, 0, 0.15);\n",
              "      filter: drop-shadow(0px 1px 2px rgba(0, 0, 0, 0.3));\n",
              "      fill: #FFFFFF;\n",
              "    }\n",
              "  </style>\n",
              "\n",
              "      <script>\n",
              "        const buttonEl =\n",
              "          document.querySelector('#df-a08a98df-d560-4958-a8e5-084bf92c002d button.colab-df-convert');\n",
              "        buttonEl.style.display =\n",
              "          google.colab.kernel.accessAllowed ? 'block' : 'none';\n",
              "\n",
              "        async function convertToInteractive(key) {\n",
              "          const element = document.querySelector('#df-a08a98df-d560-4958-a8e5-084bf92c002d');\n",
              "          const dataTable =\n",
              "            await google.colab.kernel.invokeFunction('convertToInteractive',\n",
              "                                                     [key], {});\n",
              "          if (!dataTable) return;\n",
              "\n",
              "          const docLinkHtml = 'Like what you see? Visit the ' +\n",
              "            '<a target=\"_blank\" href=https://colab.research.google.com/notebooks/data_table.ipynb>data table notebook</a>'\n",
              "            + ' to learn more about interactive tables.';\n",
              "          element.innerHTML = '';\n",
              "          dataTable['output_type'] = 'display_data';\n",
              "          await google.colab.output.renderOutput(dataTable, element);\n",
              "          const docLink = document.createElement('div');\n",
              "          docLink.innerHTML = docLinkHtml;\n",
              "          element.appendChild(docLink);\n",
              "        }\n",
              "      </script>\n",
              "    </div>\n",
              "  </div>\n",
              "  "
            ]
          },
          "metadata": {}
        }
      ]
    },
    {
      "cell_type": "markdown",
      "source": [
        "#### ***Text cleaning***"
      ],
      "metadata": {
        "id": "JeL9fBCoGeWP"
      }
    },
    {
      "cell_type": "markdown",
      "source": [
        "We will clean the dataset by removing unnecessary words, punctuation, stop words, white spaces, and unnecessary symbols from the text dataset."
      ],
      "metadata": {
        "id": "ZDe2drJkGg04"
      }
    },
    {
      "cell_type": "code",
      "source": [
        "!pip install nltk"
      ],
      "metadata": {
        "colab": {
          "base_uri": "https://localhost:8080/"
        },
        "id": "nLxmEdR2GfHg",
        "outputId": "789c4705-4f45-4871-93e1-5d08da335869"
      },
      "execution_count": null,
      "outputs": [
        {
          "output_type": "stream",
          "name": "stdout",
          "text": [
            "Looking in indexes: https://pypi.org/simple, https://us-python.pkg.dev/colab-wheels/public/simple/\n",
            "Requirement already satisfied: nltk in /usr/local/lib/python3.7/dist-packages (3.7)\n",
            "Requirement already satisfied: click in /usr/local/lib/python3.7/dist-packages (from nltk) (7.1.2)\n",
            "Requirement already satisfied: regex>=2021.8.3 in /usr/local/lib/python3.7/dist-packages (from nltk) (2022.6.2)\n",
            "Requirement already satisfied: tqdm in /usr/local/lib/python3.7/dist-packages (from nltk) (4.64.1)\n",
            "Requirement already satisfied: joblib in /usr/local/lib/python3.7/dist-packages (from nltk) (1.1.0)\n"
          ]
        }
      ]
    },
    {
      "cell_type": "code",
      "source": [
        "import nltk"
      ],
      "metadata": {
        "id": "0h_PDmEtGkRo"
      },
      "execution_count": null,
      "outputs": []
    },
    {
      "cell_type": "markdown",
      "source": [
        "NLTK has smaller sub-libraries that perform specific text cleaning tasks. These smaller libraries also have methods for text cleaning.\n",
        "\n",
        "The next step is to download the smaller sub-libraries from NLTK as follows:"
      ],
      "metadata": {
        "id": "w9pmWcwWGl5Q"
      }
    },
    {
      "cell_type": "code",
      "source": [
        "nltk.download('punkt')"
      ],
      "metadata": {
        "colab": {
          "base_uri": "https://localhost:8080/"
        },
        "id": "UCt3VkzKGnIo",
        "outputId": "824d6fcd-417c-4d81-e515-c25bc5fc2fc0"
      },
      "execution_count": null,
      "outputs": [
        {
          "output_type": "stream",
          "name": "stderr",
          "text": [
            "[nltk_data] Downloading package punkt to /root/nltk_data...\n",
            "[nltk_data]   Package punkt is already up-to-date!\n"
          ]
        },
        {
          "output_type": "execute_result",
          "data": {
            "text/plain": [
              "True"
            ]
          },
          "metadata": {},
          "execution_count": 23
        }
      ]
    },
    {
      "cell_type": "markdown",
      "source": [
        "We will create custom functions for text cleaning and pass in the imported methods as parameters. To implement the custom functions, we will require Python regular expression (RegEx) module and string module."
      ],
      "metadata": {
        "id": "zHUK8sEcGoij"
      }
    },
    {
      "cell_type": "code",
      "source": [
        "import re,string"
      ],
      "metadata": {
        "id": "nY6f1RAgGqKA"
      },
      "execution_count": null,
      "outputs": []
    },
    {
      "cell_type": "code",
      "source": [
        "def strip_links(text):\n",
        "    link_regex    = re.compile('((https?):((//)|(\\\\\\\\))+([\\w\\d:#@%/;$()~_?\\+-=\\\\\\.&](#!)?)*)', re.DOTALL)\n",
        "    links         = re.findall(link_regex, text)\n",
        "    for link in links:\n",
        "        text = text.replace(link[0], ', ')    \n",
        "    return text"
      ],
      "metadata": {
        "id": "_EWOyFOUGsIR"
      },
      "execution_count": null,
      "outputs": []
    },
    {
      "cell_type": "code",
      "source": [
        "def strip_all_entities(text):\n",
        "    entity_prefixes = ['@','#', '¿', '¡']\n",
        "    for separator in  string.punctuation:\n",
        "        if separator not in entity_prefixes :\n",
        "            text = text.replace(separator,' ')\n",
        "    words = []\n",
        "    for word in text.split():\n",
        "        word = word.strip()\n",
        "        if word:\n",
        "            if word[0] not in entity_prefixes:\n",
        "                words.append(word)\n",
        "    return ' '.join(words)"
      ],
      "metadata": {
        "id": "z6-7uG8pGtyh"
      },
      "execution_count": null,
      "outputs": []
    },
    {
      "cell_type": "code",
      "source": [
        "df['tweet'] = df['tweet'].apply(lambda x: strip_links(x))"
      ],
      "metadata": {
        "id": "uwGshzRGGyjp"
      },
      "execution_count": null,
      "outputs": []
    },
    {
      "cell_type": "code",
      "source": [
        "df['tweet'] = df['tweet'].apply(lambda x: strip_all_entities(x))"
      ],
      "metadata": {
        "id": "tC0i3yuHGz0a"
      },
      "execution_count": null,
      "outputs": []
    },
    {
      "cell_type": "markdown",
      "source": [
        "We need to remove users and hashtags in a specific way they do not add to our analysis."
      ],
      "metadata": {
        "id": "oNyEfjLpG5iS"
      }
    },
    {
      "cell_type": "code",
      "source": [
        "df['tweet'] = df['tweet'].str.replace(r'HASHTAG', '', regex=True)\n",
        "df['tweet'] = df['tweet'].str.replace(r'USER', '', regex=True)"
      ],
      "metadata": {
        "id": "0Lrt5vbZG6zS"
      },
      "execution_count": null,
      "outputs": []
    },
    {
      "cell_type": "markdown",
      "source": [
        "Create a function for converting the text to lower case. Converting all tweets to lower case to ensure that we have a uniform dataset."
      ],
      "metadata": {
        "id": "5LoqviK3G8cc"
      }
    },
    {
      "cell_type": "code",
      "source": [
        "def convert_to_lower(text):\n",
        "    return text.lower()"
      ],
      "metadata": {
        "id": "XPADhNJiG9uO"
      },
      "execution_count": null,
      "outputs": []
    },
    {
      "cell_type": "code",
      "source": [
        "df['tweet'] = df['tweet'].apply(lambda x: convert_to_lower(x))"
      ],
      "metadata": {
        "id": "D9s8nuSYG_Gc"
      },
      "execution_count": null,
      "outputs": []
    },
    {
      "cell_type": "markdown",
      "source": [
        "Removing numbers and other numeric values function to ensure that only text that remains in the dataset adds value to the model."
      ],
      "metadata": {
        "id": "ahYY8HZLHCgN"
      }
    },
    {
      "cell_type": "code",
      "source": [
        "def remove_numbers(text):\n",
        "    number_pattern = r'\\d+'\n",
        "    without_number = re.sub(pattern=number_pattern, repl=\" \", string=text)\n",
        "    return without_number"
      ],
      "metadata": {
        "id": "T6zovtWDHD01"
      },
      "execution_count": null,
      "outputs": []
    },
    {
      "cell_type": "code",
      "source": [
        "df['tweet'] = df['tweet'].apply(lambda x: remove_numbers(x))"
      ],
      "metadata": {
        "id": "HowVvesvHFmM"
      },
      "execution_count": null,
      "outputs": []
    },
    {
      "cell_type": "markdown",
      "source": [
        "Removing punctuations function: full stops and other punctuation marks, these are unnecessary symbols in the dataset."
      ],
      "metadata": {
        "id": "us2Bx2w-HISk"
      }
    },
    {
      "cell_type": "code",
      "source": [
        "def remove_punctuation(text):\n",
        "    return text.translate(str.maketrans('', '', string.punctuation))"
      ],
      "metadata": {
        "id": "0EokXR6tHHuc"
      },
      "execution_count": null,
      "outputs": []
    },
    {
      "cell_type": "code",
      "source": [
        "df['tweet'] = df['tweet'].apply(lambda x: remove_punctuation(x))"
      ],
      "metadata": {
        "id": "hYqUeISpHM4t"
      },
      "execution_count": null,
      "outputs": []
    },
    {
      "cell_type": "markdown",
      "source": [
        "Removing stop words function"
      ],
      "metadata": {
        "id": "V7GvwOrRHMYU"
      }
    },
    {
      "cell_type": "code",
      "source": [
        "from nltk import word_tokenize #method that will perform text tokenization."
      ],
      "metadata": {
        "id": "tsMc_MoYHPyl"
      },
      "execution_count": null,
      "outputs": []
    },
    {
      "cell_type": "code",
      "source": [
        "nltk.download(\"stopwords\")"
      ],
      "metadata": {
        "colab": {
          "base_uri": "https://localhost:8080/"
        },
        "id": "tIVX-8cOHQ_9",
        "outputId": "6787dfe6-9bda-4fac-be21-50c696e0a00c"
      },
      "execution_count": null,
      "outputs": [
        {
          "output_type": "stream",
          "name": "stderr",
          "text": [
            "[nltk_data] Downloading package stopwords to /root/nltk_data...\n",
            "[nltk_data]   Package stopwords is already up-to-date!\n"
          ]
        },
        {
          "output_type": "execute_result",
          "data": {
            "text/plain": [
              "True"
            ]
          },
          "metadata": {},
          "execution_count": 37
        }
      ]
    },
    {
      "cell_type": "code",
      "source": [
        "stopword_es = nltk.corpus.stopwords.words('spanish')\n",
        "stopword = stopword_es\n",
        "\n",
        "def remove_stopwords(text):\n",
        "    removed = []\n",
        "    tokens = word_tokenize(text)\n",
        "    for i in range(len(tokens)):\n",
        "        if tokens[i] not in stopword:\n",
        "            removed.append(tokens[i])\n",
        "    return \" \".join(removed)"
      ],
      "metadata": {
        "id": "1QiAsnUCHSiB"
      },
      "execution_count": null,
      "outputs": []
    },
    {
      "cell_type": "code",
      "source": [
        "df['tweet'] = df['tweet'].apply(lambda x: remove_stopwords(x))"
      ],
      "metadata": {
        "id": "nQKdCcyhHT-n"
      },
      "execution_count": null,
      "outputs": []
    },
    {
      "cell_type": "markdown",
      "source": [
        "Remove extra white spaces function. White space occupies the dataset, but they do not carry information. Removing the extra white spaces ensures we only remain with the text that the model will use."
      ],
      "metadata": {
        "id": "VJdvRSTdHYca"
      }
    },
    {
      "cell_type": "code",
      "source": [
        "def remove_extra_white_spaces(text):\n",
        "    single_char_pattern = r'\\s+[a-zA-Z]\\s+'\n",
        "    without_sc = re.sub(pattern=single_char_pattern, repl=\" \", string=text)\n",
        "    return without_sc"
      ],
      "metadata": {
        "id": "HcZksT77HZwI"
      },
      "execution_count": null,
      "outputs": []
    },
    {
      "cell_type": "code",
      "source": [
        "df['tweet'] = df['tweet'].apply(lambda x: remove_extra_white_spaces(x))"
      ],
      "metadata": {
        "id": "bW3Luo4CHbrQ"
      },
      "execution_count": null,
      "outputs": []
    },
    {
      "cell_type": "markdown",
      "source": [
        "Removing emojis, by removing them it ensures we only remain with the text that the model will use."
      ],
      "metadata": {
        "id": "1DsM1W_jHdXt"
      }
    },
    {
      "cell_type": "code",
      "source": [
        "pip install emoji"
      ],
      "metadata": {
        "colab": {
          "base_uri": "https://localhost:8080/"
        },
        "id": "TlUcGRu_Hevz",
        "outputId": "6c8282fe-c889-439e-dd11-c55d59cf3584"
      },
      "execution_count": null,
      "outputs": [
        {
          "output_type": "stream",
          "name": "stdout",
          "text": [
            "Looking in indexes: https://pypi.org/simple, https://us-python.pkg.dev/colab-wheels/public/simple/\n",
            "Requirement already satisfied: emoji in /usr/local/lib/python3.7/dist-packages (1.7.0)\n"
          ]
        }
      ]
    },
    {
      "cell_type": "code",
      "source": [
        "import emoji"
      ],
      "metadata": {
        "id": "kKN6mLl6HgC7"
      },
      "execution_count": null,
      "outputs": []
    },
    {
      "cell_type": "code",
      "source": [
        "def remove_emoji(string):\n",
        "    emoji_pattern = re.compile(\"[\"\n",
        "                    u\"\\U0001F600-\\U0001F64F\" #emoticons\n",
        "                    u\"\\U0001F300-\\U0001F5FF\" #symbols and pictographs\n",
        "                    u\"\\U0001F680-\\U0001F6FF\" #transport and map symbols\n",
        "                    u\"\\U0001F1E0-\\U0001F1FF\" #flags (ios)\n",
        "                    u\"\\U00002702-\\U000027B0\" \n",
        "                    u\"\\U000024C2-\\U0001F251\" \n",
        "                               \"]+\", flags=re.UNICODE)\n",
        "    return emoji_pattern.sub(r'', string)"
      ],
      "metadata": {
        "id": "zBf9V7o5HdHo"
      },
      "execution_count": null,
      "outputs": []
    },
    {
      "cell_type": "code",
      "source": [
        "df['tweet'] = df['tweet'].apply(lambda x: remove_emoji(x))"
      ],
      "metadata": {
        "id": "AsNsLA6QHjR5"
      },
      "execution_count": null,
      "outputs": []
    },
    {
      "cell_type": "code",
      "source": [
        "pip install clean-text"
      ],
      "metadata": {
        "colab": {
          "base_uri": "https://localhost:8080/"
        },
        "id": "fNKINxilHkxY",
        "outputId": "a5227a71-810b-4a92-b843-e7f33cffd5b0"
      },
      "execution_count": null,
      "outputs": [
        {
          "output_type": "stream",
          "name": "stdout",
          "text": [
            "Looking in indexes: https://pypi.org/simple, https://us-python.pkg.dev/colab-wheels/public/simple/\n",
            "Requirement already satisfied: clean-text in /usr/local/lib/python3.7/dist-packages (0.6.0)\n",
            "Requirement already satisfied: emoji<2.0.0,>=1.0.0 in /usr/local/lib/python3.7/dist-packages (from clean-text) (1.7.0)\n",
            "Requirement already satisfied: ftfy<7.0,>=6.0 in /usr/local/lib/python3.7/dist-packages (from clean-text) (6.1.1)\n",
            "Requirement already satisfied: wcwidth>=0.2.5 in /usr/local/lib/python3.7/dist-packages (from ftfy<7.0,>=6.0->clean-text) (0.2.5)\n"
          ]
        }
      ]
    },
    {
      "cell_type": "code",
      "source": [
        "from cleantext import clean\n",
        "df['tweet'] = df['tweet'].apply(lambda x: clean(x, no_emoji = True))"
      ],
      "metadata": {
        "colab": {
          "base_uri": "https://localhost:8080/"
        },
        "id": "NUSRINgGHlR4",
        "outputId": "f8faf272-551d-4d3d-85d1-8ea4bba7c835"
      },
      "execution_count": null,
      "outputs": [
        {
          "output_type": "stream",
          "name": "stderr",
          "text": [
            "WARNING:root:Since the GPL-licensed package `unidecode` is not installed, using Python's `unicodedata` package which yields worse results.\n"
          ]
        }
      ]
    },
    {
      "cell_type": "code",
      "source": [
        "pd.set_option('display.max_columns', None)\n",
        "df"
      ],
      "metadata": {
        "colab": {
          "base_uri": "https://localhost:8080/",
          "height": 424
        },
        "id": "dZypxSCWHm6b",
        "outputId": "a7dccef1-4102-450a-c27e-397281c334a4"
      },
      "execution_count": null,
      "outputs": [
        {
          "output_type": "execute_result",
          "data": {
            "text/plain": [
              "                                                  tweet     label    ID  \\\n",
              "0                             atletico resignado perder  sadness      1   \n",
              "1                   leer proporciona mejor vision mundo      joy      2   \n",
              "2       amo arya stark encima todas cosas gameofthrones      joy      3   \n",
              "3                   solo siento perdido escanos cordura  sadness      4   \n",
              "4     solo ver intensidad agitan banderas ve quedado...      joy      5   \n",
              "...                                                 ...       ...   ...   \n",
              "3299  dilatacion mentiras basta creer pueblo sigue s...    anger   3300   \n",
              "3300  iba decir enfrentarian incendio gracias luchar...      joy   3301   \n",
              "3301                    gracias dios ocurrio menos malo      joy   3302   \n",
              "3302                 messi mejor tiempos extraterrestre      joy   3303   \n",
              "3303  esperamos regalado si sido asi todavia tranqui...      joy   3304   \n",
              "\n",
              "      length  \n",
              "0         65  \n",
              "1         98  \n",
              "2         72  \n",
              "3         61  \n",
              "4        177  \n",
              "...      ...  \n",
              "3299     234  \n",
              "3300     208  \n",
              "3301      45  \n",
              "3302     111  \n",
              "3303     213  \n",
              "\n",
              "[3304 rows x 4 columns]"
            ],
            "text/html": [
              "\n",
              "  <div id=\"df-7a0dc2c6-57bf-4e4c-9653-946fe66c6317\">\n",
              "    <div class=\"colab-df-container\">\n",
              "      <div>\n",
              "<style scoped>\n",
              "    .dataframe tbody tr th:only-of-type {\n",
              "        vertical-align: middle;\n",
              "    }\n",
              "\n",
              "    .dataframe tbody tr th {\n",
              "        vertical-align: top;\n",
              "    }\n",
              "\n",
              "    .dataframe thead th {\n",
              "        text-align: right;\n",
              "    }\n",
              "</style>\n",
              "<table border=\"1\" class=\"dataframe\">\n",
              "  <thead>\n",
              "    <tr style=\"text-align: right;\">\n",
              "      <th></th>\n",
              "      <th>tweet</th>\n",
              "      <th>label</th>\n",
              "      <th>ID</th>\n",
              "      <th>length</th>\n",
              "    </tr>\n",
              "  </thead>\n",
              "  <tbody>\n",
              "    <tr>\n",
              "      <th>0</th>\n",
              "      <td>atletico resignado perder</td>\n",
              "      <td>sadness</td>\n",
              "      <td>1</td>\n",
              "      <td>65</td>\n",
              "    </tr>\n",
              "    <tr>\n",
              "      <th>1</th>\n",
              "      <td>leer proporciona mejor vision mundo</td>\n",
              "      <td>joy</td>\n",
              "      <td>2</td>\n",
              "      <td>98</td>\n",
              "    </tr>\n",
              "    <tr>\n",
              "      <th>2</th>\n",
              "      <td>amo arya stark encima todas cosas gameofthrones</td>\n",
              "      <td>joy</td>\n",
              "      <td>3</td>\n",
              "      <td>72</td>\n",
              "    </tr>\n",
              "    <tr>\n",
              "      <th>3</th>\n",
              "      <td>solo siento perdido escanos cordura</td>\n",
              "      <td>sadness</td>\n",
              "      <td>4</td>\n",
              "      <td>61</td>\n",
              "    </tr>\n",
              "    <tr>\n",
              "      <th>4</th>\n",
              "      <td>solo ver intensidad agitan banderas ve quedado...</td>\n",
              "      <td>joy</td>\n",
              "      <td>5</td>\n",
              "      <td>177</td>\n",
              "    </tr>\n",
              "    <tr>\n",
              "      <th>...</th>\n",
              "      <td>...</td>\n",
              "      <td>...</td>\n",
              "      <td>...</td>\n",
              "      <td>...</td>\n",
              "    </tr>\n",
              "    <tr>\n",
              "      <th>3299</th>\n",
              "      <td>dilatacion mentiras basta creer pueblo sigue s...</td>\n",
              "      <td>anger</td>\n",
              "      <td>3300</td>\n",
              "      <td>234</td>\n",
              "    </tr>\n",
              "    <tr>\n",
              "      <th>3300</th>\n",
              "      <td>iba decir enfrentarian incendio gracias luchar...</td>\n",
              "      <td>joy</td>\n",
              "      <td>3301</td>\n",
              "      <td>208</td>\n",
              "    </tr>\n",
              "    <tr>\n",
              "      <th>3301</th>\n",
              "      <td>gracias dios ocurrio menos malo</td>\n",
              "      <td>joy</td>\n",
              "      <td>3302</td>\n",
              "      <td>45</td>\n",
              "    </tr>\n",
              "    <tr>\n",
              "      <th>3302</th>\n",
              "      <td>messi mejor tiempos extraterrestre</td>\n",
              "      <td>joy</td>\n",
              "      <td>3303</td>\n",
              "      <td>111</td>\n",
              "    </tr>\n",
              "    <tr>\n",
              "      <th>3303</th>\n",
              "      <td>esperamos regalado si sido asi todavia tranqui...</td>\n",
              "      <td>joy</td>\n",
              "      <td>3304</td>\n",
              "      <td>213</td>\n",
              "    </tr>\n",
              "  </tbody>\n",
              "</table>\n",
              "<p>3304 rows × 4 columns</p>\n",
              "</div>\n",
              "      <button class=\"colab-df-convert\" onclick=\"convertToInteractive('df-7a0dc2c6-57bf-4e4c-9653-946fe66c6317')\"\n",
              "              title=\"Convert this dataframe to an interactive table.\"\n",
              "              style=\"display:none;\">\n",
              "        \n",
              "  <svg xmlns=\"http://www.w3.org/2000/svg\" height=\"24px\"viewBox=\"0 0 24 24\"\n",
              "       width=\"24px\">\n",
              "    <path d=\"M0 0h24v24H0V0z\" fill=\"none\"/>\n",
              "    <path d=\"M18.56 5.44l.94 2.06.94-2.06 2.06-.94-2.06-.94-.94-2.06-.94 2.06-2.06.94zm-11 1L8.5 8.5l.94-2.06 2.06-.94-2.06-.94L8.5 2.5l-.94 2.06-2.06.94zm10 10l.94 2.06.94-2.06 2.06-.94-2.06-.94-.94-2.06-.94 2.06-2.06.94z\"/><path d=\"M17.41 7.96l-1.37-1.37c-.4-.4-.92-.59-1.43-.59-.52 0-1.04.2-1.43.59L10.3 9.45l-7.72 7.72c-.78.78-.78 2.05 0 2.83L4 21.41c.39.39.9.59 1.41.59.51 0 1.02-.2 1.41-.59l7.78-7.78 2.81-2.81c.8-.78.8-2.07 0-2.86zM5.41 20L4 18.59l7.72-7.72 1.47 1.35L5.41 20z\"/>\n",
              "  </svg>\n",
              "      </button>\n",
              "      \n",
              "  <style>\n",
              "    .colab-df-container {\n",
              "      display:flex;\n",
              "      flex-wrap:wrap;\n",
              "      gap: 12px;\n",
              "    }\n",
              "\n",
              "    .colab-df-convert {\n",
              "      background-color: #E8F0FE;\n",
              "      border: none;\n",
              "      border-radius: 50%;\n",
              "      cursor: pointer;\n",
              "      display: none;\n",
              "      fill: #1967D2;\n",
              "      height: 32px;\n",
              "      padding: 0 0 0 0;\n",
              "      width: 32px;\n",
              "    }\n",
              "\n",
              "    .colab-df-convert:hover {\n",
              "      background-color: #E2EBFA;\n",
              "      box-shadow: 0px 1px 2px rgba(60, 64, 67, 0.3), 0px 1px 3px 1px rgba(60, 64, 67, 0.15);\n",
              "      fill: #174EA6;\n",
              "    }\n",
              "\n",
              "    [theme=dark] .colab-df-convert {\n",
              "      background-color: #3B4455;\n",
              "      fill: #D2E3FC;\n",
              "    }\n",
              "\n",
              "    [theme=dark] .colab-df-convert:hover {\n",
              "      background-color: #434B5C;\n",
              "      box-shadow: 0px 1px 3px 1px rgba(0, 0, 0, 0.15);\n",
              "      filter: drop-shadow(0px 1px 2px rgba(0, 0, 0, 0.3));\n",
              "      fill: #FFFFFF;\n",
              "    }\n",
              "  </style>\n",
              "\n",
              "      <script>\n",
              "        const buttonEl =\n",
              "          document.querySelector('#df-7a0dc2c6-57bf-4e4c-9653-946fe66c6317 button.colab-df-convert');\n",
              "        buttonEl.style.display =\n",
              "          google.colab.kernel.accessAllowed ? 'block' : 'none';\n",
              "\n",
              "        async function convertToInteractive(key) {\n",
              "          const element = document.querySelector('#df-7a0dc2c6-57bf-4e4c-9653-946fe66c6317');\n",
              "          const dataTable =\n",
              "            await google.colab.kernel.invokeFunction('convertToInteractive',\n",
              "                                                     [key], {});\n",
              "          if (!dataTable) return;\n",
              "\n",
              "          const docLinkHtml = 'Like what you see? Visit the ' +\n",
              "            '<a target=\"_blank\" href=https://colab.research.google.com/notebooks/data_table.ipynb>data table notebook</a>'\n",
              "            + ' to learn more about interactive tables.';\n",
              "          element.innerHTML = '';\n",
              "          dataTable['output_type'] = 'display_data';\n",
              "          await google.colab.output.renderOutput(dataTable, element);\n",
              "          const docLink = document.createElement('div');\n",
              "          docLink.innerHTML = docLinkHtml;\n",
              "          element.appendChild(docLink);\n",
              "        }\n",
              "      </script>\n",
              "    </div>\n",
              "  </div>\n",
              "  "
            ]
          },
          "metadata": {},
          "execution_count": 48
        }
      ]
    },
    {
      "cell_type": "markdown",
      "source": [
        "Calculating the length of each data sample after performing text cleaning"
      ],
      "metadata": {
        "id": "EhvKTmKsHuAq"
      }
    },
    {
      "cell_type": "code",
      "source": [
        "df['length_after_cleaning'] = df['tweet'].apply(lambda x: len(x))"
      ],
      "metadata": {
        "id": "CF5hnkBVHvfR"
      },
      "execution_count": null,
      "outputs": []
    },
    {
      "cell_type": "markdown",
      "source": [
        "Converting the class labels into integer values.\n",
        "\n",
        "The class labels are the emotions. We can not just feed these labels into the model because it does not understand strings/text. We will have to create a label map that converts the class labels into integer values. The model will understand the integer values."
      ],
      "metadata": {
        "id": "8ZpuQD23HxZn"
      }
    },
    {
      "cell_type": "code",
      "source": [
        "df['label'].unique()"
      ],
      "metadata": {
        "colab": {
          "base_uri": "https://localhost:8080/"
        },
        "id": "sJbbbC-eIw8a",
        "outputId": "02ea7461-2972-4b42-f665-5dd0190bd4a3"
      },
      "execution_count": null,
      "outputs": [
        {
          "output_type": "execute_result",
          "data": {
            "text/plain": [
              "array(['sadness ', 'joy ', 'surprise ', 'anger ', 'fear '], dtype=object)"
            ]
          },
          "metadata": {},
          "execution_count": 57
        }
      ]
    },
    {
      "cell_type": "code",
      "source": [
        "label_map = {\n",
        "    'joy ': 0,\n",
        "    'sadness ': 1,\n",
        "    'anger ': 2,\n",
        "    'surprise ': 3,\n",
        "    'fear ': 4,\n",
        "}"
      ],
      "metadata": {
        "id": "pWELAU_aIceI"
      },
      "execution_count": null,
      "outputs": []
    },
    {
      "cell_type": "code",
      "source": [
        "df['label'] = df['label'].map(label_map)\n",
        "df"
      ],
      "metadata": {
        "colab": {
          "base_uri": "https://localhost:8080/",
          "height": 424
        },
        "id": "onwRtoJVInsQ",
        "outputId": "84c8cbf0-5299-4849-a947-6203f70ac1a4"
      },
      "execution_count": null,
      "outputs": [
        {
          "output_type": "execute_result",
          "data": {
            "text/plain": [
              "                                                  tweet  label    ID  length  \\\n",
              "0                             atletico resignado perder      1     1      65   \n",
              "1                   leer proporciona mejor vision mundo      0     2      98   \n",
              "2       amo arya stark encima todas cosas gameofthrones      0     3      72   \n",
              "3                   solo siento perdido escanos cordura      1     4      61   \n",
              "4     solo ver intensidad agitan banderas ve quedado...      0     5     177   \n",
              "...                                                 ...    ...   ...     ...   \n",
              "3299  dilatacion mentiras basta creer pueblo sigue s...      2  3300     234   \n",
              "3300  iba decir enfrentarian incendio gracias luchar...      0  3301     208   \n",
              "3301                    gracias dios ocurrio menos malo      0  3302      45   \n",
              "3302                 messi mejor tiempos extraterrestre      0  3303     111   \n",
              "3303  esperamos regalado si sido asi todavia tranqui...      0  3304     213   \n",
              "\n",
              "      length_after_cleaning  labelled  \n",
              "0                        25       NaN  \n",
              "1                        35       NaN  \n",
              "2                        47       NaN  \n",
              "3                        35       NaN  \n",
              "4                        88       NaN  \n",
              "...                     ...       ...  \n",
              "3299                    148       NaN  \n",
              "3300                     75       NaN  \n",
              "3301                     31       NaN  \n",
              "3302                     34       NaN  \n",
              "3303                     75       NaN  \n",
              "\n",
              "[3304 rows x 6 columns]"
            ],
            "text/html": [
              "\n",
              "  <div id=\"df-93c43b14-85da-42dd-bd1c-637fc1957d38\">\n",
              "    <div class=\"colab-df-container\">\n",
              "      <div>\n",
              "<style scoped>\n",
              "    .dataframe tbody tr th:only-of-type {\n",
              "        vertical-align: middle;\n",
              "    }\n",
              "\n",
              "    .dataframe tbody tr th {\n",
              "        vertical-align: top;\n",
              "    }\n",
              "\n",
              "    .dataframe thead th {\n",
              "        text-align: right;\n",
              "    }\n",
              "</style>\n",
              "<table border=\"1\" class=\"dataframe\">\n",
              "  <thead>\n",
              "    <tr style=\"text-align: right;\">\n",
              "      <th></th>\n",
              "      <th>tweet</th>\n",
              "      <th>label</th>\n",
              "      <th>ID</th>\n",
              "      <th>length</th>\n",
              "      <th>length_after_cleaning</th>\n",
              "      <th>labelled</th>\n",
              "    </tr>\n",
              "  </thead>\n",
              "  <tbody>\n",
              "    <tr>\n",
              "      <th>0</th>\n",
              "      <td>atletico resignado perder</td>\n",
              "      <td>1</td>\n",
              "      <td>1</td>\n",
              "      <td>65</td>\n",
              "      <td>25</td>\n",
              "      <td>NaN</td>\n",
              "    </tr>\n",
              "    <tr>\n",
              "      <th>1</th>\n",
              "      <td>leer proporciona mejor vision mundo</td>\n",
              "      <td>0</td>\n",
              "      <td>2</td>\n",
              "      <td>98</td>\n",
              "      <td>35</td>\n",
              "      <td>NaN</td>\n",
              "    </tr>\n",
              "    <tr>\n",
              "      <th>2</th>\n",
              "      <td>amo arya stark encima todas cosas gameofthrones</td>\n",
              "      <td>0</td>\n",
              "      <td>3</td>\n",
              "      <td>72</td>\n",
              "      <td>47</td>\n",
              "      <td>NaN</td>\n",
              "    </tr>\n",
              "    <tr>\n",
              "      <th>3</th>\n",
              "      <td>solo siento perdido escanos cordura</td>\n",
              "      <td>1</td>\n",
              "      <td>4</td>\n",
              "      <td>61</td>\n",
              "      <td>35</td>\n",
              "      <td>NaN</td>\n",
              "    </tr>\n",
              "    <tr>\n",
              "      <th>4</th>\n",
              "      <td>solo ver intensidad agitan banderas ve quedado...</td>\n",
              "      <td>0</td>\n",
              "      <td>5</td>\n",
              "      <td>177</td>\n",
              "      <td>88</td>\n",
              "      <td>NaN</td>\n",
              "    </tr>\n",
              "    <tr>\n",
              "      <th>...</th>\n",
              "      <td>...</td>\n",
              "      <td>...</td>\n",
              "      <td>...</td>\n",
              "      <td>...</td>\n",
              "      <td>...</td>\n",
              "      <td>...</td>\n",
              "    </tr>\n",
              "    <tr>\n",
              "      <th>3299</th>\n",
              "      <td>dilatacion mentiras basta creer pueblo sigue s...</td>\n",
              "      <td>2</td>\n",
              "      <td>3300</td>\n",
              "      <td>234</td>\n",
              "      <td>148</td>\n",
              "      <td>NaN</td>\n",
              "    </tr>\n",
              "    <tr>\n",
              "      <th>3300</th>\n",
              "      <td>iba decir enfrentarian incendio gracias luchar...</td>\n",
              "      <td>0</td>\n",
              "      <td>3301</td>\n",
              "      <td>208</td>\n",
              "      <td>75</td>\n",
              "      <td>NaN</td>\n",
              "    </tr>\n",
              "    <tr>\n",
              "      <th>3301</th>\n",
              "      <td>gracias dios ocurrio menos malo</td>\n",
              "      <td>0</td>\n",
              "      <td>3302</td>\n",
              "      <td>45</td>\n",
              "      <td>31</td>\n",
              "      <td>NaN</td>\n",
              "    </tr>\n",
              "    <tr>\n",
              "      <th>3302</th>\n",
              "      <td>messi mejor tiempos extraterrestre</td>\n",
              "      <td>0</td>\n",
              "      <td>3303</td>\n",
              "      <td>111</td>\n",
              "      <td>34</td>\n",
              "      <td>NaN</td>\n",
              "    </tr>\n",
              "    <tr>\n",
              "      <th>3303</th>\n",
              "      <td>esperamos regalado si sido asi todavia tranqui...</td>\n",
              "      <td>0</td>\n",
              "      <td>3304</td>\n",
              "      <td>213</td>\n",
              "      <td>75</td>\n",
              "      <td>NaN</td>\n",
              "    </tr>\n",
              "  </tbody>\n",
              "</table>\n",
              "<p>3304 rows × 6 columns</p>\n",
              "</div>\n",
              "      <button class=\"colab-df-convert\" onclick=\"convertToInteractive('df-93c43b14-85da-42dd-bd1c-637fc1957d38')\"\n",
              "              title=\"Convert this dataframe to an interactive table.\"\n",
              "              style=\"display:none;\">\n",
              "        \n",
              "  <svg xmlns=\"http://www.w3.org/2000/svg\" height=\"24px\"viewBox=\"0 0 24 24\"\n",
              "       width=\"24px\">\n",
              "    <path d=\"M0 0h24v24H0V0z\" fill=\"none\"/>\n",
              "    <path d=\"M18.56 5.44l.94 2.06.94-2.06 2.06-.94-2.06-.94-.94-2.06-.94 2.06-2.06.94zm-11 1L8.5 8.5l.94-2.06 2.06-.94-2.06-.94L8.5 2.5l-.94 2.06-2.06.94zm10 10l.94 2.06.94-2.06 2.06-.94-2.06-.94-.94-2.06-.94 2.06-2.06.94z\"/><path d=\"M17.41 7.96l-1.37-1.37c-.4-.4-.92-.59-1.43-.59-.52 0-1.04.2-1.43.59L10.3 9.45l-7.72 7.72c-.78.78-.78 2.05 0 2.83L4 21.41c.39.39.9.59 1.41.59.51 0 1.02-.2 1.41-.59l7.78-7.78 2.81-2.81c.8-.78.8-2.07 0-2.86zM5.41 20L4 18.59l7.72-7.72 1.47 1.35L5.41 20z\"/>\n",
              "  </svg>\n",
              "      </button>\n",
              "      \n",
              "  <style>\n",
              "    .colab-df-container {\n",
              "      display:flex;\n",
              "      flex-wrap:wrap;\n",
              "      gap: 12px;\n",
              "    }\n",
              "\n",
              "    .colab-df-convert {\n",
              "      background-color: #E8F0FE;\n",
              "      border: none;\n",
              "      border-radius: 50%;\n",
              "      cursor: pointer;\n",
              "      display: none;\n",
              "      fill: #1967D2;\n",
              "      height: 32px;\n",
              "      padding: 0 0 0 0;\n",
              "      width: 32px;\n",
              "    }\n",
              "\n",
              "    .colab-df-convert:hover {\n",
              "      background-color: #E2EBFA;\n",
              "      box-shadow: 0px 1px 2px rgba(60, 64, 67, 0.3), 0px 1px 3px 1px rgba(60, 64, 67, 0.15);\n",
              "      fill: #174EA6;\n",
              "    }\n",
              "\n",
              "    [theme=dark] .colab-df-convert {\n",
              "      background-color: #3B4455;\n",
              "      fill: #D2E3FC;\n",
              "    }\n",
              "\n",
              "    [theme=dark] .colab-df-convert:hover {\n",
              "      background-color: #434B5C;\n",
              "      box-shadow: 0px 1px 3px 1px rgba(0, 0, 0, 0.15);\n",
              "      filter: drop-shadow(0px 1px 2px rgba(0, 0, 0, 0.3));\n",
              "      fill: #FFFFFF;\n",
              "    }\n",
              "  </style>\n",
              "\n",
              "      <script>\n",
              "        const buttonEl =\n",
              "          document.querySelector('#df-93c43b14-85da-42dd-bd1c-637fc1957d38 button.colab-df-convert');\n",
              "        buttonEl.style.display =\n",
              "          google.colab.kernel.accessAllowed ? 'block' : 'none';\n",
              "\n",
              "        async function convertToInteractive(key) {\n",
              "          const element = document.querySelector('#df-93c43b14-85da-42dd-bd1c-637fc1957d38');\n",
              "          const dataTable =\n",
              "            await google.colab.kernel.invokeFunction('convertToInteractive',\n",
              "                                                     [key], {});\n",
              "          if (!dataTable) return;\n",
              "\n",
              "          const docLinkHtml = 'Like what you see? Visit the ' +\n",
              "            '<a target=\"_blank\" href=https://colab.research.google.com/notebooks/data_table.ipynb>data table notebook</a>'\n",
              "            + ' to learn more about interactive tables.';\n",
              "          element.innerHTML = '';\n",
              "          dataTable['output_type'] = 'display_data';\n",
              "          await google.colab.output.renderOutput(dataTable, element);\n",
              "          const docLink = document.createElement('div');\n",
              "          docLink.innerHTML = docLinkHtml;\n",
              "          element.appendChild(docLink);\n",
              "        }\n",
              "      </script>\n",
              "    </div>\n",
              "  </div>\n",
              "  "
            ]
          },
          "metadata": {},
          "execution_count": 59
        }
      ]
    },
    {
      "cell_type": "markdown",
      "source": [
        "***Implementing text vectorization***"
      ],
      "metadata": {
        "id": "ta1d5UIJJigC"
      }
    },
    {
      "cell_type": "markdown",
      "source": [
        "It converts the raw text into a format the NLP model can understand and use. Vectorization will create a numerical representation of the text strings called a sparse matrix or word vectors. The model works with numbers and not raw text. We will use TfidfVectorizer to create the sparse matrix"
      ],
      "metadata": {
        "id": "KyzBzOZxJwBv"
      }
    },
    {
      "cell_type": "code",
      "source": [
        "from sklearn.feature_extraction.text import TfidfVectorizer"
      ],
      "metadata": {
        "id": "r6e0aA9bJqi5"
      },
      "execution_count": null,
      "outputs": []
    },
    {
      "cell_type": "code",
      "source": [
        "tf_wb= TfidfVectorizer()"
      ],
      "metadata": {
        "id": "hn_ggYLXJ0KD"
      },
      "execution_count": null,
      "outputs": []
    },
    {
      "cell_type": "markdown",
      "source": [
        "We then apply the initialized method to the text column so that it can transform the text strings into a sparse matrix."
      ],
      "metadata": {
        "id": "pcF_AGssJ2nL"
      }
    },
    {
      "cell_type": "code",
      "source": [
        "X_tf = tf_wb.fit_transform(df['tweet'])"
      ],
      "metadata": {
        "id": "Y2IJ8L2tJ3NE"
      },
      "execution_count": null,
      "outputs": []
    },
    {
      "cell_type": "markdown",
      "source": [
        "Converting the sparse matrix into an array"
      ],
      "metadata": {
        "id": "796QPCriJ-gA"
      }
    },
    {
      "cell_type": "code",
      "source": [
        "import numpy as np\n",
        "X_tf = X_tf.toarray() #We then apply the toarray function to convert the sparse matrix into an array."
      ],
      "metadata": {
        "id": "j_MEIcBQJ_Gg"
      },
      "execution_count": null,
      "outputs": []
    },
    {
      "cell_type": "code",
      "source": [
        "X_tf"
      ],
      "metadata": {
        "colab": {
          "base_uri": "https://localhost:8080/"
        },
        "id": "KrDiLS-LKGwW",
        "outputId": "402886ea-dee6-4312-93f7-ed7596c05ee3"
      },
      "execution_count": null,
      "outputs": [
        {
          "output_type": "execute_result",
          "data": {
            "text/plain": [
              "array([[0., 0., 0., ..., 0., 0., 0.],\n",
              "       [0., 0., 0., ..., 0., 0., 0.],\n",
              "       [0., 0., 0., ..., 0., 0., 0.],\n",
              "       ...,\n",
              "       [0., 0., 0., ..., 0., 0., 0.],\n",
              "       [0., 0., 0., ..., 0., 0., 0.],\n",
              "       [0., 0., 0., ..., 0., 0., 0.]])"
            ]
          },
          "metadata": {},
          "execution_count": 64
        }
      ]
    },
    {
      "cell_type": "markdown",
      "source": [
        "***Splitting the vectorized dataset***"
      ],
      "metadata": {
        "id": "RF7KAkR0KQk2"
      }
    },
    {
      "cell_type": "markdown",
      "source": [
        "We will split the vectorized dataset into two portions/sets. The first portion will be for model training and the second portion for model testing. We will use the train_test_split method to split the vectorized dataset."
      ],
      "metadata": {
        "id": "MUUqJqvGKUlG"
      }
    },
    {
      "cell_type": "code",
      "source": [
        "from sklearn.model_selection import train_test_split"
      ],
      "metadata": {
        "id": "K8UJYqg9KOqZ"
      },
      "execution_count": null,
      "outputs": []
    },
    {
      "cell_type": "code",
      "source": [
        "X_train_tf, X_test_tf, y_train_tf, y_test_tf = train_test_split(X_tf, df['label'].values, test_size=0.3)"
      ],
      "metadata": {
        "id": "sz7DQbqmKadw"
      },
      "execution_count": null,
      "outputs": []
    },
    {
      "cell_type": "markdown",
      "source": [
        "The training size will be 70% of the dataset, while the testing size will be 30%. We have cleaned and prepared the dataset. We can start building the model with this dataset."
      ],
      "metadata": {
        "id": "nfwQuG-MKfZ3"
      }
    },
    {
      "cell_type": "markdown",
      "source": [
        "### ***Model building***"
      ],
      "metadata": {
        "id": "4QtnTd9iLOR2"
      }
    },
    {
      "cell_type": "markdown",
      "source": [
        "We will use the Naive Bayes Classifier to build the spam classification model. We will import the GaussianNB function from the Naive Bayes Classifier. We choose this function because we are dealing with an array of values."
      ],
      "metadata": {
        "id": "wH4JQzJeLfRB"
      }
    },
    {
      "cell_type": "code",
      "source": [
        "from sklearn.naive_bayes import GaussianNB"
      ],
      "metadata": {
        "id": "4cNegxxcLNTd"
      },
      "execution_count": null,
      "outputs": []
    },
    {
      "cell_type": "code",
      "source": [
        "NB = GaussianNB()"
      ],
      "metadata": {
        "id": "XRHyLRFGLhxB"
      },
      "execution_count": null,
      "outputs": []
    },
    {
      "cell_type": "code",
      "source": [
        "NB.fit(X_train_tf, y_train_tf)"
      ],
      "metadata": {
        "colab": {
          "base_uri": "https://localhost:8080/"
        },
        "id": "BQpH0dhFLjMh",
        "outputId": "ce84cd26-1075-450a-988e-82e7b8f5085a"
      },
      "execution_count": null,
      "outputs": [
        {
          "output_type": "execute_result",
          "data": {
            "text/plain": [
              "GaussianNB()"
            ]
          },
          "metadata": {},
          "execution_count": 69
        }
      ]
    },
    {
      "cell_type": "markdown",
      "source": [
        "***Making predictions using the test set***"
      ],
      "metadata": {
        "id": "NarAjrRBL7Jc"
      }
    },
    {
      "cell_type": "markdown",
      "source": [
        "We make predictions on the testing set values as follows:"
      ],
      "metadata": {
        "id": "kxvRgdksL5IV"
      }
    },
    {
      "cell_type": "markdown",
      "source": [
        "The model will assign the labels (0 and 1) to the test set and print some of the predictions. The output below shows some of the predictions"
      ],
      "metadata": {
        "id": "XEfZL1SAMCF9"
      }
    },
    {
      "cell_type": "code",
      "source": [
        "NB_pred= NB.predict(X_test_tf)\n",
        "print(NB_pred)"
      ],
      "metadata": {
        "colab": {
          "base_uri": "https://localhost:8080/"
        },
        "id": "3pPMGVvSL2nr",
        "outputId": "362140a6-6a83-4dfa-a58e-2422d4d2cf45"
      },
      "execution_count": null,
      "outputs": [
        {
          "output_type": "stream",
          "name": "stdout",
          "text": [
            "[2 1 1 1 0 3 0 3 1 2 0 0 0 2 1 0 1 2 2 2 1 2 1 1 2 1 1 3 3 2 0 2 2 2 3 3 1\n",
            " 2 0 1 3 0 0 3 2 2 1 1 0 3 1 4 0 0 1 2 0 0 1 3 0 0 2 0 2 3 1 0 1 0 2 0 3 3\n",
            " 3 0 1 3 1 2 1 0 1 2 0 2 0 0 0 0 2 0 3 0 3 1 2 1 1 1 0 2 0 0 0 2 0 2 0 0 0\n",
            " 0 3 0 1 2 1 1 2 3 1 1 0 1 1 0 0 0 2 2 0 1 2 3 3 0 2 0 0 1 1 2 0 1 0 4 1 2\n",
            " 2 0 1 1 0 0 1 1 1 0 2 0 2 0 0 1 2 0 1 2 1 0 0 2 0 1 1 1 2 2 2 2 2 0 2 1 2\n",
            " 1 0 0 0 3 2 0 2 4 0 1 2 2 0 1 2 1 0 0 2 1 2 1 1 0 3 1 1 0 1 2 2 3 0 0 2 1\n",
            " 0 1 0 0 2 0 2 1 1 2 1 1 2 1 2 2 2 1 0 0 1 1 2 3 0 3 1 0 1 0 0 1 3 0 2 1 1\n",
            " 1 1 2 2 0 1 1 1 1 0 1 0 2 1 1 0 0 0 2 2 0 0 1 1 0 1 2 0 0 2 0 1 1 2 0 2 2\n",
            " 0 3 0 2 0 0 4 2 0 2 1 0 1 3 1 0 0 1 2 0 3 2 3 0 1 2 0 1 3 0 1 3 2 2 1 1 0\n",
            " 0 0 2 2 3 1 3 1 3 0 0 1 0 2 0 0 0 1 2 1 1 2 0 0 0 2 3 0 1 2 0 0 2 2 2 2 1\n",
            " 0 0 0 1 0 2 1 0 1 0 2 1 2 1 1 1 1 2 2 0 1 1 1 0 2 2 0 2 1 2 2 1 0 1 2 0 3\n",
            " 0 1 0 2 3 2 2 0 0 3 0 2 1 1 0 0 2 1 1 0 1 2 2 0 2 0 0 3 0 2 2 3 0 1 1 1 1\n",
            " 3 3 1 2 2 0 2 1 0 3 0 1 0 2 2 0 3 2 1 1 0 0 1 2 1 1 0 3 1 2 3 1 1 3 0 0 1\n",
            " 3 1 0 0 0 0 0 0 0 2 3 1 2 1 2 1 3 0 0 2 3 0 1 0 2 0 0 0 0 1 2 0 1 1 3 0 2\n",
            " 0 3 1 0 0 2 2 1 0 0 1 0 1 0 2 1 0 2 0 0 1 3 0 0 1 2 1 1 3 2 0 2 2 1 1 1 1\n",
            " 3 1 0 2 2 2 2 2 0 2 1 3 2 0 2 1 0 3 0 1 2 1 2 2 1 3 1 2 1 0 2 1 0 2 1 0 2\n",
            " 3 0 0 0 0 2 1 0 2 0 2 3 2 2 1 1 2 0 1 0 0 0 3 0 0 0 0 2 0 1 0 0 3 1 1 0 0\n",
            " 0 1 3 0 1 0 2 2 3 0 0 1 1 1 2 2 1 0 0 2 0 3 1 1 0 1 2 2 0 2 0 1 3 0 0 2 2\n",
            " 0 2 1 0 2 0 2 0 2 2 0 2 3 0 0 1 4 3 0 1 2 0 1 2 0 0 3 2 0 2 0 0 2 2 1 1 2\n",
            " 2 2 3 1 0 1 2 0 3 1 0 0 2 0 0 0 2 2 2 2 1 0 0 2 0 1 1 0 0 2 1 2 0 4 2 0 1\n",
            " 0 2 2 0 1 1 1 1 3 0 2 0 1 0 0 0 0 2 2 2 1 2 0 1 1 1 3 2 3 0 3 1 2 1 2 0 0\n",
            " 0 1 0 1 3 0 1 3 0 1 0 0 2 0 0 2 0 4 2 2 0 0 2 2 1 3 2 0 1 2 1 3 0 0 3 2 0\n",
            " 2 2 2 1 1 1 3 0 0 1 2 1 2 2 1 0 0 1 1 1 0 1 0 0 1 1 0 3 2 0 0 1 2 2 2 1 1\n",
            " 0 0 1 2 0 1 3 2 0 0 2 1 0 2 2 0 3 1 3 1 2 0 0 2 3 0 0 1 0 1 1 1 0 2 2 2 2\n",
            " 0 2 0 2 2 1 3 2 2 0 1 2 1 0 1 2 0 0 0 0 0 1 0 2 2 0 2 1 0 2 1 0 0 0 1 2 1\n",
            " 1 2 2 2 1 3 2 3 0 1 0 0 2 0 2 2 0 0 0 2 0 1 1 2 0 0 2 1 0 1 2 2 1 3 0 1 1\n",
            " 0 1 2 1 1 0 0 0 1 1 0 1 3 0 0 0 2 2 2 2 0 0 0 1 4 1 1 0 0 1]\n"
          ]
        }
      ]
    },
    {
      "cell_type": "markdown",
      "source": [
        "Getting accuracy score of these predictions"
      ],
      "metadata": {
        "id": "YZHoBszkMFPd"
      }
    },
    {
      "cell_type": "code",
      "source": [
        "from sklearn.metrics import accuracy_score"
      ],
      "metadata": {
        "id": "M6piZIB8MEVt"
      },
      "execution_count": null,
      "outputs": []
    },
    {
      "cell_type": "code",
      "source": [
        "print(accuracy_score(y_test_tf, NB_pred))"
      ],
      "metadata": {
        "colab": {
          "base_uri": "https://localhost:8080/"
        },
        "id": "-K7mp7ZpMIu9",
        "outputId": "138fb19c-951f-4895-8476-245e09883b36"
      },
      "execution_count": null,
      "outputs": [
        {
          "output_type": "stream",
          "name": "stdout",
          "text": [
            "0.5352822580645161\n"
          ]
        }
      ]
    },
    {
      "cell_type": "markdown",
      "source": [
        "This accuracy score is 53.52%. It shows the ratio of the accurately predicted data samples to the total data samples in the testing set. We have built the model without class balancing. The next step is to implement the same model but use Imbalanced-Learn to balance the classes."
      ],
      "metadata": {
        "id": "eb0pCjk6MLOe"
      }
    },
    {
      "cell_type": "markdown",
      "source": [
        "### ***Implementing Imbalanced-Learn***"
      ],
      "metadata": {
        "id": "HPo1IrTlMT3X"
      }
    },
    {
      "cell_type": "code",
      "source": [
        "!pip install imbalanced-learn"
      ],
      "metadata": {
        "colab": {
          "base_uri": "https://localhost:8080/"
        },
        "id": "EmFaixEuMWtP",
        "outputId": "725a4f59-3576-4a2d-8051-15370295462c"
      },
      "execution_count": null,
      "outputs": [
        {
          "output_type": "stream",
          "name": "stdout",
          "text": [
            "Looking in indexes: https://pypi.org/simple, https://us-python.pkg.dev/colab-wheels/public/simple/\n",
            "Requirement already satisfied: imbalanced-learn in /usr/local/lib/python3.7/dist-packages (0.8.1)\n",
            "Requirement already satisfied: scikit-learn>=0.24 in /usr/local/lib/python3.7/dist-packages (from imbalanced-learn) (1.0.2)\n",
            "Requirement already satisfied: scipy>=0.19.1 in /usr/local/lib/python3.7/dist-packages (from imbalanced-learn) (1.7.3)\n",
            "Requirement already satisfied: numpy>=1.13.3 in /usr/local/lib/python3.7/dist-packages (from imbalanced-learn) (1.21.6)\n",
            "Requirement already satisfied: joblib>=0.11 in /usr/local/lib/python3.7/dist-packages (from imbalanced-learn) (1.1.0)\n",
            "Requirement already satisfied: threadpoolctl>=2.0.0 in /usr/local/lib/python3.7/dist-packages (from scikit-learn>=0.24->imbalanced-learn) (3.1.0)\n"
          ]
        }
      ]
    },
    {
      "cell_type": "code",
      "source": [
        "from imblearn.over_sampling import RandomOverSampler"
      ],
      "metadata": {
        "id": "R_E1rMSHMcQQ"
      },
      "execution_count": null,
      "outputs": []
    },
    {
      "cell_type": "markdown",
      "source": [
        "RandomOverSampler will increase the data samples in the minority classes. It makes the minority class have the same data samples as the majority class. The function synthesizes new dummy data samples in the minority class to enable class balancing."
      ],
      "metadata": {
        "id": "xIUaQrQPMecg"
      }
    },
    {
      "cell_type": "code",
      "source": [
        "X_train, X_test, y_train, y_test = train_test_split(df['tweet'], df['label'].values, test_size=0.30)"
      ],
      "metadata": {
        "id": "9Jw1z-trMnaZ"
      },
      "execution_count": null,
      "outputs": []
    },
    {
      "cell_type": "markdown",
      "source": [
        "After splitting the dataset, we will use the Counter module to check the number of data samples in the majority and minority classes. We import the module as follows:"
      ],
      "metadata": {
        "id": "PfgoNoa9MrqK"
      }
    },
    {
      "cell_type": "code",
      "source": [
        "from collections import Counter"
      ],
      "metadata": {
        "id": "FjxGKAzgMs_y"
      },
      "execution_count": null,
      "outputs": []
    },
    {
      "cell_type": "code",
      "source": [
        "Counter(y_train)"
      ],
      "metadata": {
        "colab": {
          "base_uri": "https://localhost:8080/"
        },
        "id": "SwTamRTRMvGa",
        "outputId": "cbf79470-9ca6-42ee-c703-28f670bd880d"
      },
      "execution_count": null,
      "outputs": [
        {
          "output_type": "execute_result",
          "data": {
            "text/plain": [
              "Counter({2: 478, 3: 193, 0: 1022, 1: 565, 4: 54})"
            ]
          },
          "metadata": {},
          "execution_count": 78
        }
      ]
    },
    {
      "cell_type": "markdown",
      "source": [
        "We can see there is a class imbalance. We also need to apply the vectorization function to transform the X_train and X_test."
      ],
      "metadata": {
        "id": "mxpzy0Z3M0sz"
      }
    },
    {
      "cell_type": "markdown",
      "source": [
        "***Vectorizing the X_train***"
      ],
      "metadata": {
        "id": "z-IfGUnBM3O1"
      }
    },
    {
      "cell_type": "code",
      "source": [
        "vectorizer = TfidfVectorizer()\n",
        "vectorizer.fit(X_train)"
      ],
      "metadata": {
        "colab": {
          "base_uri": "https://localhost:8080/"
        },
        "id": "55EmE4xvM1hD",
        "outputId": "abf09979-efb7-4f7e-fa8c-2574f0756300"
      },
      "execution_count": null,
      "outputs": [
        {
          "output_type": "execute_result",
          "data": {
            "text/plain": [
              "TfidfVectorizer()"
            ]
          },
          "metadata": {},
          "execution_count": 79
        }
      ]
    },
    {
      "cell_type": "code",
      "source": [
        "X_train_tf = vectorizer.transform(X_train)"
      ],
      "metadata": {
        "id": "hawZ18gHM76c"
      },
      "execution_count": null,
      "outputs": []
    },
    {
      "cell_type": "markdown",
      "source": [
        "We finally convert the transformed text (sparse matrix) to an array as follows:"
      ],
      "metadata": {
        "id": "OuRRxX1jM-zM"
      }
    },
    {
      "cell_type": "code",
      "source": [
        "X_train_tf = X_train_tf.toarray()"
      ],
      "metadata": {
        "id": "reVVWzwrM_gm"
      },
      "execution_count": null,
      "outputs": []
    },
    {
      "cell_type": "markdown",
      "source": [
        "***Vectorizing the X_test***"
      ],
      "metadata": {
        "id": "dn_45y0fNDPG"
      }
    },
    {
      "cell_type": "code",
      "source": [
        "X_test_tf = vectorizer.transform(X_test)"
      ],
      "metadata": {
        "id": "zRiPCaj-NEQV"
      },
      "execution_count": null,
      "outputs": []
    },
    {
      "cell_type": "code",
      "source": [
        "X_test_tf = X_test_tf.toarray()"
      ],
      "metadata": {
        "id": "1Ve0TEklNGMP"
      },
      "execution_count": null,
      "outputs": []
    },
    {
      "cell_type": "markdown",
      "source": [
        "***Applying RandomOverSampler function***"
      ],
      "metadata": {
        "id": "fbTx4muMNKX2"
      }
    },
    {
      "cell_type": "code",
      "source": [
        "ROS = RandomOverSampler(sampling_strategy=1)"
      ],
      "metadata": {
        "id": "FREa0SFnNMme"
      },
      "execution_count": null,
      "outputs": []
    },
    {
      "cell_type": "markdown",
      "source": [
        "The function uses the sampling_strategy parameter to balance the class. We set the parameter’s value to 1 to ensure the dataset classes have 1:1 data samples. We then apply the function to the training set. It will generate the new data samples to ensure both classes are balanced."
      ],
      "metadata": {
        "id": "uXsBOeTcNRIG"
      }
    },
    {
      "cell_type": "code",
      "source": [
        "!pip install imbalanced-learn"
      ],
      "metadata": {
        "colab": {
          "base_uri": "https://localhost:8080/"
        },
        "id": "QqPrr-25OKj-",
        "outputId": "12aa5c32-37a3-4385-d0b3-5489a27bb881"
      },
      "execution_count": null,
      "outputs": [
        {
          "output_type": "stream",
          "name": "stdout",
          "text": [
            "Looking in indexes: https://pypi.org/simple, https://us-python.pkg.dev/colab-wheels/public/simple/\n",
            "Requirement already satisfied: imbalanced-learn in /usr/local/lib/python3.7/dist-packages (0.8.1)\n",
            "Requirement already satisfied: numpy>=1.13.3 in /usr/local/lib/python3.7/dist-packages (from imbalanced-learn) (1.21.6)\n",
            "Requirement already satisfied: scipy>=0.19.1 in /usr/local/lib/python3.7/dist-packages (from imbalanced-learn) (1.7.3)\n",
            "Requirement already satisfied: scikit-learn>=0.24 in /usr/local/lib/python3.7/dist-packages (from imbalanced-learn) (1.0.2)\n",
            "Requirement already satisfied: joblib>=0.11 in /usr/local/lib/python3.7/dist-packages (from imbalanced-learn) (1.1.0)\n",
            "Requirement already satisfied: threadpoolctl>=2.0.0 in /usr/local/lib/python3.7/dist-packages (from scikit-learn>=0.24->imbalanced-learn) (3.1.0)\n"
          ]
        }
      ]
    },
    {
      "cell_type": "code",
      "source": [
        "from imblearn import under_sampling, over_sampling\n",
        "from imblearn.over_sampling import SMOTE"
      ],
      "metadata": {
        "id": "nfJIlQLjONY2"
      },
      "execution_count": null,
      "outputs": []
    },
    {
      "cell_type": "code",
      "source": [
        "smote=SMOTE()\n",
        "X_train_ros, y_train_ros = smote.fit_resample(X_train_tf, y_train)"
      ],
      "metadata": {
        "id": "AukTTKB2N28W"
      },
      "execution_count": null,
      "outputs": []
    },
    {
      "cell_type": "code",
      "source": [
        "Counter(y_train_ros)"
      ],
      "metadata": {
        "colab": {
          "base_uri": "https://localhost:8080/"
        },
        "id": "C2NdFYD3OtqT",
        "outputId": "7316069f-8e62-4d5a-89c2-fd11dd262973"
      },
      "execution_count": null,
      "outputs": [
        {
          "output_type": "execute_result",
          "data": {
            "text/plain": [
              "Counter({2: 1022, 3: 1022, 0: 1022, 1: 1022, 4: 1022})"
            ]
          },
          "metadata": {},
          "execution_count": 94
        }
      ]
    },
    {
      "cell_type": "markdown",
      "source": [
        "From the output, all classes have the same data samples. Thus, we have achieved class balancing. We will use the balanced dataset to build the same model."
      ],
      "metadata": {
        "id": "dt5MPfS_PMZw"
      }
    },
    {
      "cell_type": "markdown",
      "source": [
        "***Using the balanced dataset to build the same model***"
      ],
      "metadata": {
        "id": "kJhpi9FAPSTp"
      }
    },
    {
      "cell_type": "code",
      "source": [
        "nb = GaussianNB()"
      ],
      "metadata": {
        "id": "8up9cRv8PQju"
      },
      "execution_count": null,
      "outputs": []
    },
    {
      "cell_type": "code",
      "source": [
        "nb.fit(X_train_ros, y_train_ros)"
      ],
      "metadata": {
        "colab": {
          "base_uri": "https://localhost:8080/"
        },
        "id": "PN-hCyNEPXh4",
        "outputId": "f1f6ae7f-f235-434f-981e-9e85ee764e15"
      },
      "execution_count": null,
      "outputs": [
        {
          "output_type": "execute_result",
          "data": {
            "text/plain": [
              "GaussianNB()"
            ]
          },
          "metadata": {},
          "execution_count": 96
        }
      ]
    },
    {
      "cell_type": "markdown",
      "source": [
        "Predicting using the model"
      ],
      "metadata": {
        "id": "m6L4bKx5PbEI"
      }
    },
    {
      "cell_type": "code",
      "source": [
        "y_preds = nb.predict(X_test_tf)\n",
        "print(y_preds)"
      ],
      "metadata": {
        "colab": {
          "base_uri": "https://localhost:8080/"
        },
        "id": "bEF00kLAPccK",
        "outputId": "d298c76a-15a0-4e64-c002-770a44f54565"
      },
      "execution_count": null,
      "outputs": [
        {
          "output_type": "stream",
          "name": "stdout",
          "text": [
            "[1 1 1 2 0 3 0 2 2 0 1 2 0 0 2 0 2 3 0 0 0 0 1 2 0 0 0 0 0 1 0 0 4 2 0 0 2\n",
            " 2 0 1 0 3 0 0 0 2 1 2 2 1 3 2 0 1 0 1 0 0 1 0 1 2 1 2 0 2 2 1 0 2 0 0 0 0\n",
            " 3 2 1 0 0 3 0 2 4 0 2 2 0 0 2 0 0 0 1 0 2 1 0 0 0 0 0 1 2 0 2 2 1 2 0 1 2\n",
            " 1 0 2 2 1 1 1 1 0 2 1 1 4 1 3 0 2 0 2 1 1 1 2 0 1 1 1 1 2 0 2 0 0 0 0 2 1\n",
            " 1 0 0 0 2 1 2 0 1 0 0 1 1 2 1 3 1 2 0 0 2 3 0 3 0 2 1 0 3 0 2 1 1 3 1 0 2\n",
            " 0 3 1 3 2 0 1 3 1 0 0 1 1 2 0 1 2 1 1 1 0 0 3 1 0 1 0 3 0 0 0 2 0 3 3 0 0\n",
            " 2 2 1 0 2 1 0 1 1 0 0 0 1 0 0 2 2 1 1 1 2 2 0 1 0 1 0 2 2 1 0 2 2 0 0 2 0\n",
            " 2 2 2 1 2 2 2 2 0 3 0 0 0 0 2 1 0 0 0 2 3 1 0 0 1 0 0 2 4 1 1 1 0 0 3 0 0\n",
            " 0 2 2 0 3 1 3 0 1 1 1 3 0 0 0 2 3 2 3 0 3 2 0 2 3 2 1 0 2 0 1 2 2 0 2 1 2\n",
            " 2 1 4 0 2 1 3 0 0 2 2 0 2 0 1 0 0 3 0 0 1 1 1 1 2 2 1 0 0 2 0 0 0 0 3 1 1\n",
            " 3 0 0 3 0 3 1 0 0 0 2 1 1 0 2 1 0 1 1 2 2 2 1 0 2 2 1 0 0 1 1 0 1 2 0 1 0\n",
            " 0 2 1 2 1 1 0 0 0 2 3 0 0 0 2 0 0 0 1 3 0 2 1 0 0 0 2 2 1 2 3 2 1 1 0 2 0\n",
            " 0 0 1 1 1 0 3 0 1 1 1 2 1 0 0 0 0 2 0 1 2 0 2 0 2 2 2 0 2 1 1 0 1 0 0 3 2\n",
            " 0 0 0 1 2 1 1 3 2 0 3 2 0 0 0 0 0 2 0 0 2 1 2 0 3 0 2 1 1 0 0 3 1 0 1 0 0\n",
            " 2 0 2 0 1 2 1 3 1 0 0 0 3 0 1 2 1 1 2 0 3 1 1 0 0 0 0 0 2 0 1 1 3 0 0 2 2\n",
            " 0 1 1 1 3 0 1 1 3 2 0 2 2 0 0 0 0 2 2 3 1 3 2 1 0 0 3 1 0 1 3 1 3 0 0 3 2\n",
            " 1 0 2 1 0 0 0 2 2 0 1 2 1 0 2 0 1 0 2 0 2 2 0 1 2 2 0 2 3 1 1 2 2 0 0 2 3\n",
            " 1 0 2 1 0 2 1 0 0 0 0 1 2 3 2 1 2 1 0 0 1 1 2 1 2 1 2 0 3 2 0 2 0 0 1 1 2\n",
            " 0 3 0 0 2 0 2 0 2 0 3 0 0 0 0 2 0 3 0 2 0 1 2 0 0 1 3 2 2 3 0 0 3 1 0 1 2\n",
            " 3 1 1 0 1 1 0 0 1 0 2 3 0 0 1 2 0 0 2 2 1 0 0 1 0 2 0 1 0 1 1 0 1 0 3 1 0\n",
            " 2 1 1 0 0 2 1 0 2 1 1 1 2 0 0 1 1 0 1 2 1 2 2 1 0 3 3 0 3 2 2 0 1 3 0 0 0\n",
            " 2 0 1 1 2 2 1 3 1 1 3 1 0 2 1 0 2 0 0 1 2 0 2 2 0 2 2 3 0 0 0 2 1 3 1 1 0\n",
            " 1 1 1 4 0 2 2 4 2 1 0 0 1 1 1 1 1 1 0 2 1 1 0 2 0 2 1 1 1 0 1 0 2 0 0 0 0\n",
            " 3 2 3 0 2 1 0 3 1 2 0 0 2 1 0 0 1 0 3 1 0 1 1 0 2 0 2 2 0 0 0 1 0 0 2 2 3\n",
            " 0 0 2 1 0 2 2 2 2 2 0 2 0 1 0 2 1 1 2 2 1 0 0 0 3 2 2 2 0 1 0 0 1 0 3 0 1\n",
            " 1 3 2 3 0 1 3 0 1 0 1 1 1 0 1 3 0 3 2 1 3 0 1 1 3 1 1 2 1 1 0 0 3 2 3 0 1\n",
            " 1 0 0 2 1 2 3 0 0 2 0 2 1 3 0 2 1 0 0 0 1 1 1 0 3 0 2 2 1 2]\n"
          ]
        }
      ]
    },
    {
      "cell_type": "markdown",
      "source": [
        "Getting accuracy score"
      ],
      "metadata": {
        "id": "Rli4Qvq2PeKJ"
      }
    },
    {
      "cell_type": "code",
      "source": [
        "print(accuracy_score(y_test, y_preds))"
      ],
      "metadata": {
        "colab": {
          "base_uri": "https://localhost:8080/"
        },
        "id": "yJkA9hOQPgM2",
        "outputId": "1a17d7b2-0b36-4794-b73c-c4f2b31a174b"
      },
      "execution_count": null,
      "outputs": [
        {
          "output_type": "stream",
          "name": "stdout",
          "text": [
            "0.5443548387096774\n"
          ]
        }
      ]
    },
    {
      "cell_type": "markdown",
      "source": [
        "This accuracy score is 54.43. The accuracy score has increased from 53.52% to 54.43%. Therefore, balancing the classes has enhanced the model performance giving better results"
      ],
      "metadata": {
        "id": "CtkHK71gPpjy"
      }
    }
  ]
}